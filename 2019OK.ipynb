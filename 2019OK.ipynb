{
 "cells": [
  {
   "cell_type": "markdown",
   "metadata": {},
   "source": [
    "# 2019 OK JPL Horizon vs OpenOrb comp"
   ]
  },
  {
   "cell_type": "markdown",
   "metadata": {},
   "source": [
    "## Assumptions/ accountability-sourced documentation:\n",
    "\n",
    "* Values for chosen orbit found here: https://ssd.jpl.nasa.gov/sbdb.cgi?sstr=2019%20OK\n",
    "* Location: L11, Gemini South\n",
    "* Time: 2010/01/01 to 2020/01/01, midnights\n",
    "\n",
    "## Current questions:\n",
    "\n",
    "* Do I need to cite things in-code?\n",
    "* Vertical or horizontal tables? See below\n",
    "* How do I add units to the line that currently says 'object' (see cell 2)\n",
    "* Do we need a maximum difference function or class? What do I need to know about OOP for class things?\n",
    "* Key error: 'R.A. (ICRF)' ??? what do ???\n",
    "* \"Global\" variables for times- good or bad?\n",
    "* "
   ]
  },
  {
   "cell_type": "code",
   "execution_count": 57,
   "metadata": {},
   "outputs": [
    {
     "data": {
      "text/plain": [
       "1"
      ]
     },
     "execution_count": 57,
     "metadata": {},
     "output_type": "execute_result"
    }
   ],
   "source": [
    "%matplotlib inline\n",
    "\n",
    "import numpy as np\n",
    "import astropy as ap\n",
    "import astropy.units as u\n",
    "from astropy.table import QTable\n",
    "import matplotlib as plt\n",
    "import astroquery as aq\n",
    "from astroquery.jplhorizons import Horizons\n",
    "import pyoorb as oo\n",
    "oo.pyoorb.oorb_init()"
   ]
  },
  {
   "cell_type": "code",
   "execution_count": 58,
   "metadata": {},
   "outputs": [
    {
     "name": "stdout",
     "output_type": "stream",
     "text": [
      "2455197.5\n",
      "None\n",
      "    targetname     datetime_jd ...         Q                 P        \n",
      "       ---              d      ...         AU                d        \n",
      "------------------ ----------- ... ----------------- -----------------\n",
      "433 Eros (A898 PA)   2455197.5 ... 1.782955292957648 643.1050030280264\n",
      "https://ssd.jpl.nasa.gov/horizons_batch.cgi?batch=1&TABLE_TYPE=ELEMENTS&MAKE_EPHEM=YES&OUT_UNITS=AU-D&COMMAND=%22433%3B%22&CENTER=%27500%4010%27&CSV_FORMAT=YES&ELEM_LABELS=YES&OBJ_DATA=YES&REF_SYSTEM=J2000&REF_PLANE=ECLIPTIC&TP_TYPE=ABSOLUTE&TLIST=2455197.5\n"
     ]
    }
   ],
   "source": [
    "# example elements, trying to make one of start-date 2019OK\n",
    "# id ok, time ok?, location isn't working. Locations tried: I11; I11@399\n",
    "# no uri to check?? I am officially confused\n",
    "# went back to example, and it's not using the time i specified. More confusion.\n",
    "blastoff = '2010-01-01 00:00:00'\n",
    "start = ap.time.Time(blastoff)\n",
    "start1 = start.jd\n",
    "print(start1)\n",
    "obj = Horizons(id='433', location='500@10',\n",
    "               epochs=start1)\n",
    "print(obj.uri)\n",
    "el = obj.elements()  \n",
    "print(el)\n",
    "print(obj.uri)"
   ]
  },
  {
   "cell_type": "code",
   "execution_count": 59,
   "metadata": {},
   "outputs": [
    {
     "ename": "ValueError",
     "evalue": "Query failed without error message; check URI for more information",
     "output_type": "error",
     "traceback": [
      "\u001b[0;31m---------------------------------------------------------------------------\u001b[0m",
      "\u001b[0;31mValueError\u001b[0m                                Traceback (most recent call last)",
      "\u001b[0;32m<ipython-input-59-71c188a705e1>\u001b[0m in \u001b[0;36m<module>\u001b[0;34m\u001b[0m\n\u001b[1;32m      7\u001b[0m \u001b[0mobj2\u001b[0m \u001b[0;34m=\u001b[0m \u001b[0mHorizons\u001b[0m\u001b[0;34m(\u001b[0m\u001b[0mid\u001b[0m\u001b[0;34m=\u001b[0m\u001b[0;34m'2019 OK'\u001b[0m\u001b[0;34m,\u001b[0m \u001b[0mlocation\u001b[0m\u001b[0;34m=\u001b[0m\u001b[0;34m'I11'\u001b[0m\u001b[0;34m,\u001b[0m \u001b[0mepochs\u001b[0m\u001b[0;34m=\u001b[0m \u001b[0;34m'2010-10-01 00:00:00'\u001b[0m\u001b[0;34m)\u001b[0m\u001b[0;34m\u001b[0m\u001b[0;34m\u001b[0m\u001b[0m\n\u001b[1;32m      8\u001b[0m \u001b[0;31m#eph = obj1.ephemerides()\u001b[0m\u001b[0;34m\u001b[0m\u001b[0;34m\u001b[0m\u001b[0;34m\u001b[0m\u001b[0m\n\u001b[0;32m----> 9\u001b[0;31m \u001b[0mel\u001b[0m \u001b[0;34m=\u001b[0m \u001b[0mobj2\u001b[0m\u001b[0;34m.\u001b[0m\u001b[0melements\u001b[0m\u001b[0;34m(\u001b[0m\u001b[0;34m)\u001b[0m\u001b[0;34m\u001b[0m\u001b[0;34m\u001b[0m\u001b[0m\n\u001b[0m\u001b[1;32m     10\u001b[0m \u001b[0;31m#print(eph)\u001b[0m\u001b[0;34m\u001b[0m\u001b[0;34m\u001b[0m\u001b[0;34m\u001b[0m\u001b[0m\n\u001b[1;32m     11\u001b[0m \u001b[0mprint\u001b[0m\u001b[0;34m(\u001b[0m\u001b[0mel\u001b[0m\u001b[0;34m)\u001b[0m\u001b[0;34m\u001b[0m\u001b[0;34m\u001b[0m\u001b[0m\n",
      "\u001b[0;32m/epyc/opt/anaconda-2019/lib/python3.7/site-packages/astroquery/utils/class_or_instance.py\u001b[0m in \u001b[0;36mf\u001b[0;34m(*args, **kwds)\u001b[0m\n\u001b[1;32m     23\u001b[0m         \u001b[0;32mdef\u001b[0m \u001b[0mf\u001b[0m\u001b[0;34m(\u001b[0m\u001b[0;34m*\u001b[0m\u001b[0margs\u001b[0m\u001b[0;34m,\u001b[0m \u001b[0;34m**\u001b[0m\u001b[0mkwds\u001b[0m\u001b[0;34m)\u001b[0m\u001b[0;34m:\u001b[0m\u001b[0;34m\u001b[0m\u001b[0;34m\u001b[0m\u001b[0m\n\u001b[1;32m     24\u001b[0m             \u001b[0;32mif\u001b[0m \u001b[0mobj\u001b[0m \u001b[0;32mis\u001b[0m \u001b[0;32mnot\u001b[0m \u001b[0;32mNone\u001b[0m\u001b[0;34m:\u001b[0m\u001b[0;34m\u001b[0m\u001b[0;34m\u001b[0m\u001b[0m\n\u001b[0;32m---> 25\u001b[0;31m                 \u001b[0;32mreturn\u001b[0m \u001b[0mself\u001b[0m\u001b[0;34m.\u001b[0m\u001b[0mfn\u001b[0m\u001b[0;34m(\u001b[0m\u001b[0mobj\u001b[0m\u001b[0;34m,\u001b[0m \u001b[0;34m*\u001b[0m\u001b[0margs\u001b[0m\u001b[0;34m,\u001b[0m \u001b[0;34m**\u001b[0m\u001b[0mkwds\u001b[0m\u001b[0;34m)\u001b[0m\u001b[0;34m\u001b[0m\u001b[0;34m\u001b[0m\u001b[0m\n\u001b[0m\u001b[1;32m     26\u001b[0m             \u001b[0;32melse\u001b[0m\u001b[0;34m:\u001b[0m\u001b[0;34m\u001b[0m\u001b[0;34m\u001b[0m\u001b[0m\n\u001b[1;32m     27\u001b[0m                 \u001b[0;32mreturn\u001b[0m \u001b[0mself\u001b[0m\u001b[0;34m.\u001b[0m\u001b[0mfn\u001b[0m\u001b[0;34m(\u001b[0m\u001b[0mcls\u001b[0m\u001b[0;34m,\u001b[0m \u001b[0;34m*\u001b[0m\u001b[0margs\u001b[0m\u001b[0;34m,\u001b[0m \u001b[0;34m**\u001b[0m\u001b[0mkwds\u001b[0m\u001b[0;34m)\u001b[0m\u001b[0;34m\u001b[0m\u001b[0;34m\u001b[0m\u001b[0m\n",
      "\u001b[0;32m/epyc/opt/anaconda-2019/lib/python3.7/site-packages/astroquery/utils/process_asyncs.py\u001b[0m in \u001b[0;36mnewmethod\u001b[0;34m(self, *args, **kwargs)\u001b[0m\n\u001b[1;32m     27\u001b[0m             \u001b[0;32mif\u001b[0m \u001b[0mkwargs\u001b[0m\u001b[0;34m.\u001b[0m\u001b[0mget\u001b[0m\u001b[0;34m(\u001b[0m\u001b[0;34m'get_query_payload'\u001b[0m\u001b[0;34m)\u001b[0m \u001b[0;32mor\u001b[0m \u001b[0mkwargs\u001b[0m\u001b[0;34m.\u001b[0m\u001b[0mget\u001b[0m\u001b[0;34m(\u001b[0m\u001b[0;34m'field_help'\u001b[0m\u001b[0;34m)\u001b[0m\u001b[0;34m:\u001b[0m\u001b[0;34m\u001b[0m\u001b[0;34m\u001b[0m\u001b[0m\n\u001b[1;32m     28\u001b[0m                 \u001b[0;32mreturn\u001b[0m \u001b[0mresponse\u001b[0m\u001b[0;34m\u001b[0m\u001b[0;34m\u001b[0m\u001b[0m\n\u001b[0;32m---> 29\u001b[0;31m             \u001b[0mresult\u001b[0m \u001b[0;34m=\u001b[0m \u001b[0mself\u001b[0m\u001b[0;34m.\u001b[0m\u001b[0m_parse_result\u001b[0m\u001b[0;34m(\u001b[0m\u001b[0mresponse\u001b[0m\u001b[0;34m,\u001b[0m \u001b[0mverbose\u001b[0m\u001b[0;34m=\u001b[0m\u001b[0mverbose\u001b[0m\u001b[0;34m)\u001b[0m\u001b[0;34m\u001b[0m\u001b[0;34m\u001b[0m\u001b[0m\n\u001b[0m\u001b[1;32m     30\u001b[0m             \u001b[0mself\u001b[0m\u001b[0;34m.\u001b[0m\u001b[0mtable\u001b[0m \u001b[0;34m=\u001b[0m \u001b[0mresult\u001b[0m\u001b[0;34m\u001b[0m\u001b[0;34m\u001b[0m\u001b[0m\n\u001b[1;32m     31\u001b[0m             \u001b[0;32mreturn\u001b[0m \u001b[0mresult\u001b[0m\u001b[0;34m\u001b[0m\u001b[0;34m\u001b[0m\u001b[0m\n",
      "\u001b[0;32m/epyc/opt/anaconda-2019/lib/python3.7/site-packages/astroquery/jplhorizons/core.py\u001b[0m in \u001b[0;36m_parse_result\u001b[0;34m(self, response, verbose)\u001b[0m\n\u001b[1;32m   1282\u001b[0m             \u001b[0;32mreturn\u001b[0m \u001b[0;32mNone\u001b[0m\u001b[0;34m\u001b[0m\u001b[0;34m\u001b[0m\u001b[0m\n\u001b[1;32m   1283\u001b[0m         \u001b[0;32melse\u001b[0m\u001b[0;34m:\u001b[0m\u001b[0;34m\u001b[0m\u001b[0;34m\u001b[0m\u001b[0m\n\u001b[0;32m-> 1284\u001b[0;31m             \u001b[0mdata\u001b[0m \u001b[0;34m=\u001b[0m \u001b[0mself\u001b[0m\u001b[0;34m.\u001b[0m\u001b[0m_parse_horizons\u001b[0m\u001b[0;34m(\u001b[0m\u001b[0mresponse\u001b[0m\u001b[0;34m.\u001b[0m\u001b[0mtext\u001b[0m\u001b[0;34m)\u001b[0m\u001b[0;34m\u001b[0m\u001b[0;34m\u001b[0m\u001b[0m\n\u001b[0m\u001b[1;32m   1285\u001b[0m \u001b[0;34m\u001b[0m\u001b[0m\n\u001b[1;32m   1286\u001b[0m         \u001b[0;32mreturn\u001b[0m \u001b[0mdata\u001b[0m\u001b[0;34m\u001b[0m\u001b[0;34m\u001b[0m\u001b[0m\n",
      "\u001b[0;32m/epyc/opt/anaconda-2019/lib/python3.7/site-packages/astroquery/jplhorizons/core.py\u001b[0m in \u001b[0;36m_parse_horizons\u001b[0;34m(self, src)\u001b[0m\n\u001b[1;32m   1176\u001b[0m                                  err_msg)\n\u001b[1;32m   1177\u001b[0m             \u001b[0;32melse\u001b[0m\u001b[0;34m:\u001b[0m\u001b[0;34m\u001b[0m\u001b[0;34m\u001b[0m\u001b[0m\n\u001b[0;32m-> 1178\u001b[0;31m                 raise ValueError(('Query failed without error message; '\n\u001b[0m\u001b[1;32m   1179\u001b[0m                                   'check URI for more information'))\n\u001b[1;32m   1180\u001b[0m         \u001b[0;31m# strip whitespaces from column labels\u001b[0m\u001b[0;34m\u001b[0m\u001b[0;34m\u001b[0m\u001b[0;34m\u001b[0m\u001b[0m\n",
      "\u001b[0;31mValueError\u001b[0m: Query failed without error message; check URI for more information"
     ]
    }
   ],
   "source": [
    "#start_time = '2010-10-01 00:00:00'\n",
    "#stop_time = '2020-10-01 00:00:00'\n",
    "\n",
    "obj1 = Horizons(id='2019 OK', location='I11', epochs={'start': '2010-01-01 00:00:00', \n",
    "                                                    'stop': '2020-01-01 00:00:00', \n",
    "                                                    'step':'1d'})\n",
    "obj2 = Horizons(id='2019 OK', location='I11', epochs= '2010-10-01 00:00:00')\n",
    "#eph = obj1.ephemerides()\n",
    "el = obj2.elements()\n",
    "#print(eph)\n",
    "print(el)"
   ]
  },
  {
   "cell_type": "code",
   "execution_count": 60,
   "metadata": {},
   "outputs": [
    {
     "name": "stdout",
     "output_type": "stream",
     "text": [
      "Element       Value        Units \n",
      "------- ------------------ ------\n",
      "      e 0.7571011351666629   Null\n",
      "      a  1.866845215104908     AU\n",
      "      q 0.4534545835685292     AU\n",
      "      i  2.089875053674596    deg\n",
      "   node  302.0443761140395    deg\n",
      "   peri  106.0972546563977    deg\n",
      "      M  101.8116827265041    deg\n",
      "    t_p  2458737.014932156 unsure\n",
      " period  931.6673871166022   days\n",
      "      n 0.3864039945781041  deg/d\n",
      "      Q  3.280235846641287     AU\n"
     ]
    },
    {
     "data": {
      "text/html": [
       "<i>QTable length=1</i>\n",
       "<table id=\"table139679008509776\" class=\"table-striped table-bordered table-condensed\">\n",
       "<thead><tr><th>e</th><th>a</th><th>q</th><th>i</th><th>node</th><th>peri</th><th>M</th><th>t_p</th><th>period</th><th>n</th><th>Q</th></tr></thead>\n",
       "<thead><tr><th>object</th><th>object</th><th>object</th><th>object</th><th>object</th><th>object</th><th>object</th><th>object</th><th>object</th><th>object</th><th>object</th></tr></thead>\n",
       "<tr><td>0.7571011351666629</td><td>1.866845215104908 AU</td><td>0.4534545835685292 AU</td><td>2.089875053674596 deg</td><td>302.0443761140395 deg</td><td>106.0972546563977 deg</td><td>101.8116827265041 deg</td><td>2458737.014932156</td><td>931.6673871166022 d</td><td>0.3864039945781041 deg / d</td><td>3.280235846641287 AU</td></tr>\n",
       "</table>"
      ],
      "text/plain": [
       "<QTable length=1>\n",
       "        e                   a           ...          Q          \n",
       "      object              object        ...        object       \n",
       "------------------ -------------------- ... --------------------\n",
       "0.7571011351666629 1.866845215104908 AU ... 3.280235846641287 AU"
      ]
     },
     "execution_count": 60,
     "metadata": {},
     "output_type": "execute_result"
    }
   ],
   "source": [
    "# Values table thing goes here\n",
    "# do I even need this?\n",
    "\n",
    "# vertical version\n",
    "\n",
    "Element1 = [\"e\", \"a\", \"q\", \"i\", \"node\", \"peri\", \"M\", \"t_p\", \"period\", \"n\", \"Q\"]\n",
    "Value1 = [.7571011351666629, 1.866845215104908, .4534545835685292, 2.089875053674596,\n",
    "         302.0443761140395, 106.0972546563977, 101.8116827265041, 2458737.014932156260, \n",
    "         931.6673871166022, .3864039945781041, 3.280235846641287]\n",
    "Unit1 = [\"Null\", \"AU\", \"AU\", \"deg\", \"deg\", \"deg\", \"deg\", \"unsure\", \"days\", \"deg/d\", \"AU\"]\n",
    "\n",
    "hi = QTable([Element1, Value1, Unit1],\n",
    "          names=('Element', 'Value', 'Units'),\n",
    "          meta={'name': '2019OK data'})\n",
    "\n",
    "# horizontal version\n",
    "\n",
    "Element2 = [\"e\", \"a\", \"q\", \"i\", \"node\", \"peri\", \"M\", \"t_p\", \"period\", \"n\", \"Q\"]\n",
    "Value2 = [.7571011351666629, 1.866845215104908, .4534545835685292, 2.089875053674596,\n",
    "         302.0443761140395, 106.0972546563977, 101.8116827265041, 2458737.014932156260, \n",
    "         931.6673871166022, .3864039945781041, 3.280235846641287]\n",
    "Value2 = np.array(Value2)\n",
    "Value2 = np.transpose(Value2)\n",
    "Unit2 = [u.dimensionless_unscaled, u.AU, u.AU, u.deg, u.deg, u.deg, u.deg, u.dimensionless_unscaled, \n",
    "         u.d, u.deg/u.d, u.AU]\n",
    "bye = QTable(Value2*Unit2, names = Element2,)\n",
    "print(hi)\n",
    "bye"
   ]
  },
  {
   "cell_type": "code",
   "execution_count": 61,
   "metadata": {},
   "outputs": [],
   "source": [
    "# JPL integration\n",
    "# Values = .elements() something here?"
   ]
  },
  {
   "cell_type": "code",
   "execution_count": 62,
   "metadata": {},
   "outputs": [],
   "source": [
    "# OpenOrb integration"
   ]
  },
  {
   "cell_type": "code",
   "execution_count": 63,
   "metadata": {},
   "outputs": [],
   "source": [
    "# difference function\n",
    "# function or class?\n",
    "\n",
    "def max_diff_metric(var1, var2):\n",
    "    \n",
    "    # solution for the 360deg problem\n",
    "    \n",
    "    return RA_diff, DEC_diff"
   ]
  },
  {
   "cell_type": "code",
   "execution_count": null,
   "metadata": {},
   "outputs": [],
   "source": []
  }
 ],
 "metadata": {
  "kernelspec": {
   "display_name": "Great Integrator Bakeoff Project (Research)",
   "language": "python",
   "name": "maria8ch_bakeoff3"
  },
  "language_info": {
   "codemirror_mode": {
    "name": "ipython",
    "version": 3
   },
   "file_extension": ".py",
   "mimetype": "text/x-python",
   "name": "python",
   "nbconvert_exporter": "python",
   "pygments_lexer": "ipython3",
   "version": "3.7.6"
  }
 },
 "nbformat": 4,
 "nbformat_minor": 4
}
