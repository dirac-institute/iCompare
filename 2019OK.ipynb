{
 "cells": [
  {
   "cell_type": "markdown",
   "metadata": {},
   "source": [
    "# 2019 OK JPL Horizon vs OpenOrb comparison"
   ]
  },
  {
   "cell_type": "markdown",
   "metadata": {},
   "source": [
    "## Assumptions/ accountability-sourced documentation:\n",
    "\n",
    "* Values for chosen orbit found here: https://ssd.jpl.nasa.gov/sbdb.cgi?sstr=2019%20OK\n",
    "* Location: I11, Gemini South\n",
    "* Time: 2010/01/01 to 2020/01/01, midnights\n",
    "\n",
    "## Current questions/ issues:\n",
    "\n",
    "* Do I need to cite things in-code? nah, but track examples/ code snippets\n",
    "* Do we need a maximum difference function or class? function\n",
    "* check data to stop kernel from dying"
   ]
  },
  {
   "cell_type": "markdown",
   "metadata": {},
   "source": [
    "# Display-ready Zone"
   ]
  },
  {
   "cell_type": "markdown",
   "metadata": {},
   "source": [
    "## Set-up"
   ]
  },
  {
   "cell_type": "code",
   "execution_count": 39,
   "metadata": {
    "scrolled": false
   },
   "outputs": [
    {
     "data": {
      "text/plain": [
       "1"
      ]
     },
     "execution_count": 39,
     "metadata": {},
     "output_type": "execute_result"
    }
   ],
   "source": [
    "%matplotlib inline\n",
    "\n",
    "import sys\n",
    "import numpy as np\n",
    "import pandas as pd\n",
    "import astropy as ap\n",
    "from astropy.coordinates import SkyCoord\n",
    "import astropy.units as u\n",
    "from astropy.table import QTable\n",
    "import matplotlib.pyplot as plt\n",
    "import astroquery as aq\n",
    "from astroquery.jplhorizons import Horizons\n",
    "import pyoorb as oo\n",
    "oo.pyoorb.oorb_init()"
   ]
  },
  {
   "cell_type": "code",
   "execution_count": 4,
   "metadata": {},
   "outputs": [],
   "source": [
    "# \"Global\" variables: times (UTC), location, object (find a way to generalize objects)\n",
    "start_time = '2010-01-01T00:00:00'\n",
    "stop_time = '2020-01-01T00:00:01'\n",
    "internal_start = ap.time.Time(start_time)\n",
    "internal_stop = ap.time.Time(stop_time)\n",
    "element_time = internal_start.jd\n",
    "Gemini_S = 'Ill@399'\n",
    "obj_id = 'Ivezic'"
   ]
  },
  {
   "cell_type": "markdown",
   "metadata": {},
   "source": [
    "## JPL Horizons"
   ]
  },
  {
   "cell_type": "code",
   "execution_count": 20,
   "metadata": {},
   "outputs": [],
   "source": [
    "def get_ephem_jpl():\n",
    "    el_obj = Horizons(id=obj_id, location= '500@10',\n",
    "               epochs=element_time)\n",
    "    el_jpl = el_obj.elements()\n",
    "    ephem_obj = Horizons(id= obj_id, location= Gemini_S,\n",
    "               epochs={'start': start_time, 'stop':stop_time,\n",
    "                      'step':'1d'})\n",
    "    ephem_jpl = ephem_obj.ephemerides()\n",
    "    \n",
    "    return el_jpl, ephem_jpl"
   ]
  },
  {
   "cell_type": "markdown",
   "metadata": {},
   "source": [
    "## OpenOrb/ pyoorb"
   ]
  },
  {
   "cell_type": "code",
   "execution_count": 10,
   "metadata": {},
   "outputs": [],
   "source": [
    "# function to reorganize JPL Horizons output into pyoorb-acceptable inputs. Expand for multiple orbits next\n",
    "def reorganizer(orbits, epoch):\n",
    "    '''\n",
    "    Parameters\n",
    "    ------\n",
    "    orbits : `~numpy.ndarray` (N, 18)\n",
    "    epoch : `~numpy.ndarray` (3652, 2)\n",
    "        Constrained to cometary format.\n",
    "    Returns\n",
    "    -------\n",
    "    new_array : `~numpy.ndarray` (N, 12)\n",
    "        Orbits formatted in the format expected by PYOORB. \n",
    "            orbit_id : index of input orbits\n",
    "            elements x6: orbital elements of propagated orbits\n",
    "            orbit_type : orbit type\n",
    "            epoch_mjd : epoch of the propagate orbit\n",
    "            time_scale : time scale of output epochs\n",
    "            H/M1 : absolute magnitude\n",
    "            G/K1 : photometric slope parameter\n",
    "    '''\n",
    "    \n",
    "    temp = orbits.copy()\n",
    "    temp = temp.as_array().data\n",
    "    if temp.shape == (6,):\n",
    "        num_orbits = 1\n",
    "    else:\n",
    "        num_orbits = temp.shape[0]\n",
    "        \n",
    "    for i in range(num_orbits):\n",
    "        ids = i\n",
    "        orbit_type = 2\n",
    "        time_scale = 3\n",
    "        \n",
    "    # elements x6\n",
    "    q = temp[0][6]\n",
    "    e = temp[0][5]\n",
    "    incl = np.deg2rad(temp[0][7])\n",
    "    longnode = np.deg2rad(temp[0][8])\n",
    "    argper = np.deg2rad(temp[0][9])\n",
    "    peri_epoch = ap.time.Time(temp[0][10], format='jd').mjd\n",
    "\n",
    "    mag = temp[0][3]\n",
    "    slope = temp[0][4]\n",
    "    \n",
    "    if num_orbits > 1:\n",
    "        new_array = np.array(\n",
    "            np.array([\n",
    "                ids, \n",
    "                q,\n",
    "                e,\n",
    "                incl,\n",
    "                longnode,\n",
    "                argper,\n",
    "                peri_epoch,\n",
    "                orbit_type,\n",
    "                epoch,\n",
    "                time_scale,\n",
    "                mag,\n",
    "                slope\n",
    "            ]), \n",
    "            dtype=np.double, \n",
    "            order='F')\n",
    "    else:\n",
    "        new_array = np.array(\n",
    "            [[\n",
    "                ids, \n",
    "                q,\n",
    "                e,\n",
    "                incl,\n",
    "                longnode,\n",
    "                argper,\n",
    "                peri_epoch,\n",
    "                orbit_type,\n",
    "                epoch,\n",
    "                time_scale,\n",
    "                mag,\n",
    "                slope\n",
    "            ]], \n",
    "            dtype=np.double,\n",
    "            order='F')\n",
    "    \n",
    "    return new_array"
   ]
  },
  {
   "cell_type": "code",
   "execution_count": 23,
   "metadata": {},
   "outputs": [],
   "source": [
    "def get_ephem_OpenOrb():\n",
    "    # time conversions, epochs for pyoorb to work\n",
    "    element_time_pyoorb = internal_start.mjd\n",
    "    start_pyoorb = internal_start.mjd\n",
    "    stop_pyoorb = internal_stop.mjd\n",
    "    peri_time = ap.time.Time(el_jpl['Tp_jd'][0], format='jd').mjd\n",
    "    #print(start_pyoorb, stop_pyoorb)\n",
    "    \n",
    "    pyoorb_formatted = reorganizer(el_jpl, start_pyoorb)\n",
    "    t0 = np.array([element_time_pyoorb, 1], dtype=np.double, order='F')\n",
    "    mjds = np.arange(start_pyoorb, stop_pyoorb, 1)\n",
    "    epochs = np.array(list(zip(mjds, [1]*len(mjds))), dtype=np.double, order='F')\n",
    "    ephem_pyoorb, err = oo.pyoorb.oorb_ephemeris_basic(in_orbits=pyoorb_formatted,\n",
    "                                         in_obscode='I11',\n",
    "                                         in_date_ephems=epochs,\n",
    "                                         in_dynmodel='N')\n",
    "\n",
    "    \n",
    "    \n",
    "    return ephem_pyoorb"
   ]
  },
  {
   "cell_type": "markdown",
   "metadata": {},
   "source": [
    "## OrbFit"
   ]
  },
  {
   "cell_type": "code",
   "execution_count": 58,
   "metadata": {},
   "outputs": [
    {
     "ename": "InconsistentTableError",
     "evalue": "Number of header columns (4) inconsistent with data columns in data line 0",
     "output_type": "error",
     "traceback": [
      "\u001b[0;31m---------------------------------------------------------------------------\u001b[0m",
      "\u001b[0;31mInconsistentTableError\u001b[0m                    Traceback (most recent call last)",
      "\u001b[0;32m<ipython-input-58-b23f381b47af>\u001b[0m in \u001b[0;36m<module>\u001b[0;34m\u001b[0m\n\u001b[1;32m      2\u001b[0m \u001b[0mget_ipython\u001b[0m\u001b[0;34m(\u001b[0m\u001b[0;34m)\u001b[0m\u001b[0;34m.\u001b[0m\u001b[0msystem\u001b[0m\u001b[0;34m(\u001b[0m\u001b[0;34m' ./fitobs.x < ast.inp > /dev/null'\u001b[0m\u001b[0;34m)\u001b[0m\u001b[0;34m\u001b[0m\u001b[0;34m\u001b[0m\u001b[0m\n\u001b[1;32m      3\u001b[0m \u001b[0;32mfrom\u001b[0m \u001b[0mastropy\u001b[0m\u001b[0;34m.\u001b[0m\u001b[0mio\u001b[0m \u001b[0;32mimport\u001b[0m \u001b[0mascii\u001b[0m\u001b[0;34m\u001b[0m\u001b[0;34m\u001b[0m\u001b[0m\n\u001b[0;32m----> 4\u001b[0;31m \u001b[0mdataboi\u001b[0m \u001b[0;34m=\u001b[0m \u001b[0mascii\u001b[0m\u001b[0;34m.\u001b[0m\u001b[0mread\u001b[0m\u001b[0;34m(\u001b[0m\u001b[0;34m'202930.eph'\u001b[0m\u001b[0;34m,\u001b[0m \u001b[0mformat\u001b[0m\u001b[0;34m=\u001b[0m\u001b[0;34m'csv'\u001b[0m\u001b[0;34m,\u001b[0m \u001b[0mdelimiter\u001b[0m\u001b[0;34m=\u001b[0m\u001b[0;34m' '\u001b[0m\u001b[0;34m)\u001b[0m\u001b[0;34m\u001b[0m\u001b[0;34m\u001b[0m\u001b[0m\n\u001b[0m\u001b[1;32m      5\u001b[0m \u001b[0mdataboi\u001b[0m\u001b[0;34m\u001b[0m\u001b[0;34m\u001b[0m\u001b[0m\n\u001b[1;32m      6\u001b[0m \u001b[0;34m\u001b[0m\u001b[0m\n",
      "\u001b[0;32m~/.conda/envs/bakeoff3/lib/python3.7/site-packages/astropy/io/ascii/ui.py\u001b[0m in \u001b[0;36mread\u001b[0;34m(table, guess, **kwargs)\u001b[0m\n\u001b[1;32m    302\u001b[0m             \u001b[0mfast_reader_rdr\u001b[0m \u001b[0;34m=\u001b[0m \u001b[0mget_reader\u001b[0m\u001b[0;34m(\u001b[0m\u001b[0;34m**\u001b[0m\u001b[0mfast_kwargs\u001b[0m\u001b[0;34m)\u001b[0m\u001b[0;34m\u001b[0m\u001b[0;34m\u001b[0m\u001b[0m\n\u001b[1;32m    303\u001b[0m             \u001b[0;32mtry\u001b[0m\u001b[0;34m:\u001b[0m\u001b[0;34m\u001b[0m\u001b[0;34m\u001b[0m\u001b[0m\n\u001b[0;32m--> 304\u001b[0;31m                 \u001b[0mdat\u001b[0m \u001b[0;34m=\u001b[0m \u001b[0mfast_reader_rdr\u001b[0m\u001b[0;34m.\u001b[0m\u001b[0mread\u001b[0m\u001b[0;34m(\u001b[0m\u001b[0mtable\u001b[0m\u001b[0;34m)\u001b[0m\u001b[0;34m\u001b[0m\u001b[0;34m\u001b[0m\u001b[0m\n\u001b[0m\u001b[1;32m    305\u001b[0m                 _read_trace.append({'kwargs': copy.deepcopy(fast_kwargs),\n\u001b[1;32m    306\u001b[0m                                     \u001b[0;34m'Reader'\u001b[0m\u001b[0;34m:\u001b[0m \u001b[0mfast_reader_rdr\u001b[0m\u001b[0;34m.\u001b[0m\u001b[0m__class__\u001b[0m\u001b[0;34m,\u001b[0m\u001b[0;34m\u001b[0m\u001b[0;34m\u001b[0m\u001b[0m\n",
      "\u001b[0;32m~/.conda/envs/bakeoff3/lib/python3.7/site-packages/astropy/io/ascii/fastbasic.py\u001b[0m in \u001b[0;36mread\u001b[0;34m(self, table)\u001b[0m\n\u001b[1;32m    126\u001b[0m \u001b[0;34m\u001b[0m\u001b[0m\n\u001b[1;32m    127\u001b[0m         \u001b[0;32mwith\u001b[0m \u001b[0m_set_locale\u001b[0m\u001b[0;34m(\u001b[0m\u001b[0;34m'C'\u001b[0m\u001b[0;34m)\u001b[0m\u001b[0;34m:\u001b[0m\u001b[0;34m\u001b[0m\u001b[0;34m\u001b[0m\u001b[0m\n\u001b[0;32m--> 128\u001b[0;31m             \u001b[0mdata\u001b[0m\u001b[0;34m,\u001b[0m \u001b[0mcomments\u001b[0m \u001b[0;34m=\u001b[0m \u001b[0mself\u001b[0m\u001b[0;34m.\u001b[0m\u001b[0mengine\u001b[0m\u001b[0;34m.\u001b[0m\u001b[0mread\u001b[0m\u001b[0;34m(\u001b[0m\u001b[0mtry_int\u001b[0m\u001b[0;34m,\u001b[0m \u001b[0mtry_float\u001b[0m\u001b[0;34m,\u001b[0m \u001b[0mtry_string\u001b[0m\u001b[0;34m)\u001b[0m\u001b[0;34m\u001b[0m\u001b[0;34m\u001b[0m\u001b[0m\n\u001b[0m\u001b[1;32m    129\u001b[0m         \u001b[0mout\u001b[0m \u001b[0;34m=\u001b[0m \u001b[0mself\u001b[0m\u001b[0;34m.\u001b[0m\u001b[0mmake_table\u001b[0m\u001b[0;34m(\u001b[0m\u001b[0mdata\u001b[0m\u001b[0;34m,\u001b[0m \u001b[0mcomments\u001b[0m\u001b[0;34m)\u001b[0m\u001b[0;34m\u001b[0m\u001b[0;34m\u001b[0m\u001b[0m\n\u001b[1;32m    130\u001b[0m \u001b[0;34m\u001b[0m\u001b[0m\n",
      "\u001b[0;32mastropy/io/ascii/cparser.pyx\u001b[0m in \u001b[0;36mastropy.io.ascii.cparser.CParser.read\u001b[0;34m()\u001b[0m\n",
      "\u001b[0;31mInconsistentTableError\u001b[0m: Number of header columns (4) inconsistent with data columns in data line 0"
     ]
    }
   ],
   "source": [
    "#%cd 2019OK\n",
    "! ./fitobs.x < ast.inp > /dev/null\n",
    "from astropy.io import ascii\n",
    "databoi = ascii.read('202930.eph', format='csv', delimiter=' ')\n",
    "databoi\n",
    "\n",
    "\n",
    "#importtimes = pd.read_csv('202930.eph', delimiter = \" \", skipinitialspace=True)\n",
    "#importtimes"
   ]
  },
  {
   "cell_type": "code",
   "execution_count": 30,
   "metadata": {},
   "outputs": [],
   "source": [
    "def get_ephem_OrbFit():\n",
    "    \n",
    "    \n",
    "    return ephem_OrbFit"
   ]
  },
  {
   "cell_type": "code",
   "execution_count": null,
   "metadata": {},
   "outputs": [],
   "source": [
    "ephem_OrbFit = get_ephem_OrbFit()"
   ]
  },
  {
   "cell_type": "markdown",
   "metadata": {},
   "source": [
    "## Outputs and comparison"
   ]
  },
  {
   "cell_type": "code",
   "execution_count": 25,
   "metadata": {},
   "outputs": [],
   "source": [
    "el_jpl, ephem_jpl = get_ephem_jpl()\n",
    "ephem_OpenOrb = get_ephem_OpenOrb()"
   ]
  },
  {
   "cell_type": "markdown",
   "metadata": {},
   "source": [
    "## Difference metric"
   ]
  },
  {
   "cell_type": "code",
   "execution_count": 27,
   "metadata": {},
   "outputs": [],
   "source": [
    "# difference function: how to write it so that any integrator we use can be parsed?\n",
    "\n",
    "\n",
    "def max_diff(ephem1, ephem2, integrator):\n",
    "    '''\n",
    "    Parameters\n",
    "    ----------\n",
    "    ephem1: elements of ephemerides, 1st integrator, numpy array?\n",
    "    ephem2: elements of ephemerides, 2nd integrator, numpy array? (same type as ephem1)\n",
    "    integrator: indicates which integrators are being comparted, str (not implemented yet)\n",
    "    \n",
    "    Returns\n",
    "    -------\n",
    "    diff_matrix: separation, offset, magnitude diff between ephem1 and ephem2, numpy array\n",
    "    '''\n",
    "    \n",
    "    #coordinates\n",
    "    RA1 = ephem1['RA']\n",
    "    Dec1 = ephem1['DEC']\n",
    "    RA2 = ephem2[0][:,1] * u.deg\n",
    "    Dec2 = ephem2[0][:,2] * u.deg\n",
    "    \n",
    "    coord1 = SkyCoord(RA1, Dec1, frame='icrs')\n",
    "    coord2 = SkyCoord(RA2, Dec2, frame='icrs')\n",
    "    sep = coord1.separation(coord2)\n",
    "    \n",
    "    # magnitudes\n",
    "    #mag1 = ephem1['H']\n",
    "    #mag2 = ephem2['H']\n",
    "    \n",
    "    #magnitude = mag2 - mag1\n",
    "    \n",
    "    # matrix\n",
    "    # degs, mins, secs; extract secs\n",
    "    diff_matrix = sep.arcsec\n",
    "        \n",
    "    return diff_matrix"
   ]
  },
  {
   "cell_type": "code",
   "execution_count": 29,
   "metadata": {
    "scrolled": true
   },
   "outputs": [
    {
     "name": "stdout",
     "output_type": "stream",
     "text": [
      "These are the differences: [0.00785716 0.01113825 0.00619841 ... 0.1361494  0.12737095 0.1156872 ]\n",
      "These are the precision values: [6.06262453e-09 8.59433169e-09 4.78272197e-09 ... 1.05053549e-07\n",
      " 9.82800574e-08 8.92648144e-08]\n"
     ]
    }
   ],
   "source": [
    "great_circle_diff = max_diff(ephem_jpl, ephem_pyoorb,*_)\n",
    "print(\"These are the differences:\", great_circle_diff)\n",
    "precision = (great_circle_diff/3600)/360\n",
    "print(\"These are the precision values:\", precision)\n",
    "#HALF A PIXEL (1p is 0.2 arcs (but also photometry can improve measurements))"
   ]
  },
  {
   "cell_type": "markdown",
   "metadata": {},
   "source": [
    "# Prep Zone"
   ]
  },
  {
   "cell_type": "code",
   "execution_count": 8,
   "metadata": {},
   "outputs": [],
   "source": [
    "# 2019 OK orbit and time set-up\n",
    "orbit_2019OK = np.array([[0, el_jpl['q'][0], el_jpl['e'][0], np.deg2rad(el_jpl['incl'][0]),\n",
    "                   np.deg2rad(el_jpl['Omega'][0]), np.deg2rad(el_jpl['w'][0]),\n",
    "                   peri_time, 2, start_pyoorb, 1, el_jpl['H'][0], el_jpl['G'][0]]],\n",
    "                  dtype=np.double, order='F')\n",
    "\n",
    "t0 = np.array([element_time_pyoorb, 1], dtype=np.double, order='F')\n",
    "mjds = np.arange(start_pyoorb, stop_pyoorb, 1)\n",
    "epochs = np.array(list(zip(mjds, [1]*len(mjds))), dtype=np.double, order='F')\n",
    "ephem_pyoorb, err = oo.pyoorb.oorb_ephemeris_basic(in_orbits=orbit_2019OK,\n",
    "                                         in_obscode='I11',\n",
    "                                         in_date_ephems=epochs,\n",
    "                                         in_dynmodel='N')\n",
    "\n",
    "print(ephem_pyoorb, err)"
   ]
  },
  {
   "cell_type": "markdown",
   "metadata": {},
   "source": [
    "# Recipe"
   ]
  },
  {
   "cell_type": "code",
   "execution_count": null,
   "metadata": {
    "scrolled": false
   },
   "outputs": [],
   "source": [
    "'''\n",
    "Gfortran version 4.8.6\n",
    "\n",
    "Useful bits from docs:\n",
    "\n",
    "JPL: 'targetname','datetime_jd','datetime_str','H','G','e','q','incl','Omega','w','Tp_jd','n','M','nu','a','Q','P'\n",
    "\n",
    "pyoorb:\n",
    "orbit id: an integer number to identify the orbit; usually ranges from 0 to n-1, where n is the number of orbits\n",
    "perihelion distance (au) for COM, semimajor axis a (au) for KEP, x (au) for CART\n",
    "eccentricity for COM or KEP, y (au) for CART\n",
    "inclination (deg) for COM or KEP, z (au) for CART\n",
    "longitude of the ascending node (deg) for COM and KEP, dx/dt (au/day) for CART\n",
    "argument of the periapsis (deg) for COM and KEP, dy/dt (au/day) for CARqT\n",
    "epoch of perihelion (modified Julian date) for COM, mean anomaly (deg) for KEP, dz/dt for CART\n",
    "orbital element type; integer value: CART: 1, COM: 2, KEP: 3\n",
    "epoch of the osculating elements (modified Julian date)\n",
    "timescale type of the epochs provided; integer value: UTC: 1, UT1: 2, TT: 3, TAI: 4\n",
    "absolute magnitude of the target\n",
    "photometric slope parameter of the target\n",
    "\n",
    "\n",
    "JPL TableColumns values to extract:\n",
    "[0,1,2,3,7,8,23] = [targetname, datetime str, datettime jd, H, RA, DEC, V]\n",
    "\n",
    "Want pyoorb.oorb_ephemeris_basic , use these indices for properties:\n",
    "[0,1,2,9] = [mjd, RA (deg), DEC(deg), predicted apparent V-band mag]\n",
    "\n",
    "example copied from--> https://github.com/oorb/oorb/tree/master/python#ephemeris-computation\n",
    "'''"
   ]
  }
 ],
 "metadata": {
  "kernelspec": {
   "display_name": "Great Integrator Bakeoff Project (Research)",
   "language": "python",
   "name": "maria8ch_bakeoff3"
  },
  "language_info": {
   "codemirror_mode": {
    "name": "ipython",
    "version": 3
   },
   "file_extension": ".py",
   "mimetype": "text/x-python",
   "name": "python",
   "nbconvert_exporter": "python",
   "pygments_lexer": "ipython3",
   "version": "3.7.7"
  }
 },
 "nbformat": 4,
 "nbformat_minor": 4
}
