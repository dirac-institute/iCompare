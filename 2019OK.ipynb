{
 "cells": [
  {
   "cell_type": "markdown",
   "metadata": {},
   "source": [
    "# Asteroid Ivezić JPL Horizon vs OpenOrb comparison"
   ]
  },
  {
   "cell_type": "markdown",
   "metadata": {},
   "source": [
    "## Assumptions/ accountability-sourced documentation:\n",
    "\n",
    "* Values for chosen orbit found here: https://ssd.jpl.nasa.gov/sbdb.cgi?sstr=2019%20OK\n",
    "* Location: I11, Gemini South\n",
    "* Time: 2010/01/01 to 2020/01/01, midnights\n",
    "\n",
    "## Current questions/ issues:\n",
    "* table color-coding: https://pandas.pydata.org/pandas-docs/stable/user_guide/style.html"
   ]
  },
  {
   "cell_type": "markdown",
   "metadata": {},
   "source": [
    "# Display-ready Zone"
   ]
  },
  {
   "cell_type": "markdown",
   "metadata": {},
   "source": [
    "## Set-up"
   ]
  },
  {
   "cell_type": "code",
   "execution_count": 1,
   "metadata": {
    "scrolled": false
   },
   "outputs": [
    {
     "data": {
      "text/plain": [
       "0"
      ]
     },
     "execution_count": 1,
     "metadata": {},
     "output_type": "execute_result"
    }
   ],
   "source": [
    "%matplotlib inline\n",
    "\n",
    "import sys\n",
    "import re\n",
    "import numpy as np\n",
    "import pandas as pd\n",
    "import jinja2\n",
    "import astropy as ap\n",
    "from astropy.coordinates import Angle\n",
    "from astropy.coordinates import SkyCoord\n",
    "import astropy.units as u\n",
    "from astropy.table import QTable\n",
    "from astropy.io import ascii\n",
    "import matplotlib.pyplot as plt\n",
    "import astroquery as aq\n",
    "from astroquery.jplhorizons import Horizons\n",
    "import pyoorb as oo\n",
    "oo.pyoorb.oorb_init()"
   ]
  },
  {
   "cell_type": "code",
   "execution_count": 2,
   "metadata": {},
   "outputs": [],
   "source": [
    "# \"Global\" variables: times (UTC), location, object (find a way to generalize objects)\n",
    "start_time = '2010-01-01T00:00:00'\n",
    "stop_time = '2020-01-01T00:00:01'\n",
    "internal_start = ap.time.Time(start_time)\n",
    "internal_stop = ap.time.Time(stop_time)\n",
    "element_time = internal_start.jd\n",
    "Gemini_S = 'I11@399'\n",
    "obj_id = 'Ivezic'"
   ]
  },
  {
   "cell_type": "markdown",
   "metadata": {},
   "source": [
    "## JPL Horizons"
   ]
  },
  {
   "cell_type": "code",
   "execution_count": 3,
   "metadata": {},
   "outputs": [],
   "source": [
    "def get_ephem_jpl(obj_id, element_time):\n",
    "    el_obj = Horizons(id=obj_id, location= '500@10',\n",
    "               epochs=element_time)\n",
    "    el_jpl = el_obj.elements()\n",
    "    ephem_obj = Horizons(id= obj_id, location= Gemini_S,\n",
    "               epochs={'start': start_time, 'stop':stop_time,\n",
    "                      'step':'1d'})\n",
    "    ephem_jpl = ephem_obj.ephemerides()\n",
    "    \n",
    "    RA_jpl = ephem_jpl['RA']\n",
    "    DEC_jpl = ephem_jpl['DEC']\n",
    "    coord_jpl = np.array([RA_jpl, DEC_jpl]) * u.deg\n",
    "    \n",
    "    return el_jpl, coord_jpl"
   ]
  },
  {
   "cell_type": "markdown",
   "metadata": {},
   "source": [
    "## OpenOrb/ pyoorb"
   ]
  },
  {
   "cell_type": "code",
   "execution_count": 4,
   "metadata": {},
   "outputs": [],
   "source": [
    "# function to reorganize JPL Horizons output into pyoorb-acceptable inputs. Expand for multiple orbits next\n",
    "def reorganizer(orbits, epoch):\n",
    "    '''\n",
    "    Parameters\n",
    "    ------\n",
    "    orbits : `~numpy.ndarray` (N, 18)\n",
    "    epoch : `~numpy.ndarray` (3652, 2)\n",
    "        Constrained to cometary format.\n",
    "    Returns\n",
    "    -------\n",
    "    new_array : `~numpy.ndarray` (N, 12)\n",
    "        Orbits formatted in the format expected by PYOORB. \n",
    "            orbit_id : index of input orbits\n",
    "            elements x6: orbital elements of propagated orbits\n",
    "            orbit_type : orbit type\n",
    "            epoch_mjd : epoch of the propagate orbit\n",
    "            time_scale : time scale of output epochs\n",
    "            H/M1 : absolute magnitude\n",
    "            G/K1 : photometric slope parameter\n",
    "    '''\n",
    "    \n",
    "    temp = orbits.copy()\n",
    "    temp = temp.as_array().data\n",
    "    if temp.shape == (6,):\n",
    "        num_orbits = 1\n",
    "    else:\n",
    "        num_orbits = temp.shape[0]\n",
    "        \n",
    "    for i in range(num_orbits):\n",
    "        ids = i\n",
    "        orbit_type = 2\n",
    "        time_scale = 3\n",
    "        \n",
    "    # elements x6\n",
    "    q = temp[0][6]\n",
    "    e = temp[0][5]\n",
    "    incl = np.deg2rad(temp[0][7])\n",
    "    longnode = np.deg2rad(temp[0][8])\n",
    "    argper = np.deg2rad(temp[0][9])\n",
    "    peri_epoch = ap.time.Time(temp[0][10], format='jd').mjd\n",
    "\n",
    "    mag = temp[0][3]\n",
    "    slope = temp[0][4]\n",
    "    \n",
    "    if num_orbits > 1:\n",
    "        new_array = np.array(\n",
    "            np.array([\n",
    "                ids, \n",
    "                q,\n",
    "                e,\n",
    "                incl,\n",
    "                longnode,\n",
    "                argper,\n",
    "                peri_epoch,\n",
    "                orbit_type,\n",
    "                epoch,\n",
    "                time_scale,\n",
    "                mag,\n",
    "                slope\n",
    "            ]), \n",
    "            dtype=np.double, \n",
    "            order='F')\n",
    "    else:\n",
    "        new_array = np.array(\n",
    "            [[\n",
    "                ids, \n",
    "                q,\n",
    "                e,\n",
    "                incl,\n",
    "                longnode,\n",
    "                argper,\n",
    "                peri_epoch,\n",
    "                orbit_type,\n",
    "                epoch,\n",
    "                time_scale,\n",
    "                mag,\n",
    "                slope\n",
    "            ]], \n",
    "            dtype=np.double,\n",
    "            order='F')\n",
    "    \n",
    "    return new_array"
   ]
  },
  {
   "cell_type": "code",
   "execution_count": 5,
   "metadata": {},
   "outputs": [],
   "source": [
    "def get_ephem_OpenOrb(el_jpl):\n",
    "    # time conversions, epochs for pyoorb to work\n",
    "    element_time_pyoorb = internal_start.mjd\n",
    "    start_pyoorb = internal_start.mjd\n",
    "    stop_pyoorb = internal_stop.mjd\n",
    "    peri_time = ap.time.Time(el_jpl['Tp_jd'][0], format='jd').mjd\n",
    "    \n",
    "    #conversion and implementation\n",
    "    pyoorb_formatted = reorganizer(el_jpl, start_pyoorb)\n",
    "    t0 = np.array([element_time_pyoorb, 1], dtype=np.double, order='F')\n",
    "    mjds = np.arange(start_pyoorb, stop_pyoorb, 1)\n",
    "    epochs = np.array(list(zip(mjds, [1]*len(mjds))), dtype=np.double, order='F')\n",
    "    ephem_pyoorb, err = oo.pyoorb.oorb_ephemeris_basic(in_orbits=pyoorb_formatted,\n",
    "                                         in_obscode='I11',\n",
    "                                         in_date_ephems=epochs,\n",
    "                                         in_dynmodel='N')\n",
    "    \n",
    "    RA_OpenOrb = ephem_pyoorb[0][:,1]\n",
    "    DEC_OpenOrb = ephem_pyoorb[0][:,2]\n",
    "    coord_OpenOrb = np.array([RA_OpenOrb,DEC_OpenOrb]) * u.deg\n",
    "    \n",
    "    return coord_OpenOrb"
   ]
  },
  {
   "cell_type": "markdown",
   "metadata": {},
   "source": [
    "## OrbFit"
   ]
  },
  {
   "cell_type": "code",
   "execution_count": 6,
   "metadata": {},
   "outputs": [],
   "source": [
    "! (cd 2019OK && ./fitobs.x < ast.inp > /dev/null)\n",
    "file = \"2019OK/202930.eph\" #find a way to take the output of previous command and feed it in here automatically\n",
    "\n",
    "with open(file) as fp:\n",
    "    [ fp.readline() for _ in range(4) ]\n",
    "    originalData = fp.read()\n",
    "clean = re.sub('\\- ','-', originalData)\n",
    "clean = re.sub('\\+ ','+', clean)\n",
    "ephem_OrbFit = ascii.read(clean, delimiter='\\s', comment='\\s*#')\n",
    "ephem_OrbFit.rename_columns(names=(\"col5\",\"col6\",\"col7\", \"col8\",\"col9\", \"col10\", \"col11\", \"col12\"), \n",
    "                                           new_names=(\"mjd(utc)\", \"RA hr\", \"RA min\", \"RA sec\", \"DEC deg\", \"DEC arcmin\", \"DEC arcsec\", \"mag\"))\n",
    "\n",
    "RA_OrbFit = Angle((ephem_OrbFit['RA hr'], ephem_OrbFit['RA min'], ephem_OrbFit['RA sec']), unit = 'hourangle').degree\n",
    "DEC_OrbFit = Angle((ephem_OrbFit['DEC deg'], ephem_OrbFit['DEC arcmin'], ephem_OrbFit['DEC arcsec']), unit = u.deg)\n",
    "coord_OrbFit = np.array([RA_OrbFit, DEC_OrbFit]) * u.deg"
   ]
  },
  {
   "cell_type": "markdown",
   "metadata": {},
   "source": [
    "Use these:\n",
    "https://pandas.pydata.org/pandas-docs/stable/reference/api/pandas.read_fwf.html\n",
    "https://pandas.pydata.org/pandas-docs/stable/user_guide/io.html#csv-text-files\n",
    "sign in [50) thing\n"
   ]
  },
  {
   "cell_type": "code",
   "execution_count": 8,
   "metadata": {},
   "outputs": [],
   "source": [
    "def get_ephem_OrbFit():\n",
    "    ! (cd 2019OK && ./fitobs.x < ast.inp > /dev/null)\n",
    "    df = pd.read_fwf('2019OK/202930.eph', skiprows=4, header=None, colspecs=[(20,32),(35,37),(38,40),(41,47),(49,50),(50, 52),(53, 55), (56, 61)])\n",
    "    \n",
    "    df[\"RA\"] = Angle((df[1], df[2], df[3]), unit = 'hourangle').degree\n",
    "    df[\"DEC\"] = Angle((df[5], df[6], df[7]), unit = u.deg)\n",
    "    df.loc[df[4] == '-', \"DEC\"] *= -1\n",
    "    \n",
    "    RA_OrbFit = df[\"RA\"]\n",
    "    DEC_OrbFit = df[\"DEC\"]\n",
    "    coord_OrbFit = np.array([RA_OrbFit, DEC_OrbFit]) * u.deg\n",
    "    return coord_OrbFit"
   ]
  },
  {
   "cell_type": "raw",
   "metadata": {},
   "source": [
    "def get_ephem_OrbFit():\n",
    "    ! (cd 2019OK && ./fitobs.x < ast.inp > /dev/null)\n",
    "    file = \"2019OK/202930.eph\" #find a way to take the output of previous command and feed it in here automatically\n",
    "    \n",
    "    with open(file) as fp:\n",
    "        [ fp.readline() for _ in range(4) ]\n",
    "        originalData = fp.read()\n",
    "    clean = re.sub('\\- ','-', originalData)\n",
    "    clean = re.sub('\\+ ','+', clean)\n",
    "    ephem_OrbFit = ascii.read(clean, delimiter='\\s', comment='\\s*#')\n",
    "    ephem_OrbFit.rename_columns(names=(\"col5\",\"col6\",\"col7\", \"col8\",\"col9\", \"col10\", \"col11\", \"col12\"), \n",
    "                                               new_names=(\"mjd(utc)\", \"RA hr\", \"RA min\", \"RA sec\", \"DEC deg\", \"DEC arcmin\", \"DEC arcsec\", \"mag\"))\n",
    "\n",
    "    RA_OrbFit = Angle((ephem_OrbFit['RA hr'], ephem_OrbFit['RA min'], ephem_OrbFit['RA sec']), unit = 'hourangle').degree\n",
    "    DEC_OrbFit = Angle((ephem_OrbFit['DEC deg'], ephem_OrbFit['DEC arcmin'], ephem_OrbFit['DEC arcsec']), unit = u.deg)\n",
    "    coord_OrbFit = np.array([RA_OrbFit, DEC_OrbFit]) * u.deg\n",
    "    \n",
    "    return coord_OrbFit"
   ]
  },
  {
   "cell_type": "markdown",
   "metadata": {},
   "source": [
    "## Outputs and comparison"
   ]
  },
  {
   "cell_type": "code",
   "execution_count": 9,
   "metadata": {},
   "outputs": [],
   "source": [
    "# main function. Will take in object id's and convert&conquer to all integrators\n",
    "def get_ephems(obj_id):\n",
    "    el_jpl, coord_jpl = get_ephem_jpl(obj_id, element_time)\n",
    "    coord_OpenOrb = get_ephem_OpenOrb(el_jpl)\n",
    "    coord_OrbFit = get_ephem_OrbFit()\n",
    "    return el_jpl, coord_jpl, coord_OpenOrb, coord_OrbFit"
   ]
  },
  {
   "cell_type": "code",
   "execution_count": 10,
   "metadata": {},
   "outputs": [],
   "source": [
    "el_jpl, coord_jpl, coord_OpenOrb, coord_OrbFit = get_ephems(obj_id)"
   ]
  },
  {
   "cell_type": "markdown",
   "metadata": {},
   "source": [
    "## Difference metric"
   ]
  },
  {
   "cell_type": "code",
   "execution_count": 11,
   "metadata": {},
   "outputs": [],
   "source": [
    "def max_diff(param1, param2):\n",
    "    '''\n",
    "    Parameters\n",
    "    ----------\n",
    "    param1: parameters from 1st integrator, `numpy array`\n",
    "    param2: parameters from 2nd integrator, `numpy array` \n",
    "    \n",
    "    Returns\n",
    "    -------\n",
    "    diff_matrix: separation between ephem1 and ephem2, `numpy array`\n",
    "    '''\n",
    "    \n",
    "    #coordinates\n",
    "    coord1 = SkyCoord(param1[0], param1[1], frame='icrs', unit=\"deg\")\n",
    "    coord2 = SkyCoord(param2[0], param2[1], frame='icrs', unit=\"deg\")\n",
    "    sep = coord1.separation(coord2)\n",
    "    \n",
    "    # magnitudes\n",
    "    #mag1 = ephem1['H']\n",
    "    #mag2 = ephem2['H']\n",
    "    \n",
    "    #magnitude = mag2 - mag1\n",
    "    \n",
    "    # matrix\n",
    "    # degs, mins, secs; extract secs\n",
    "    diff_matrix = sep.arcsec\n",
    "        \n",
    "    return diff_matrix.flatten()"
   ]
  },
  {
   "cell_type": "code",
   "execution_count": 12,
   "metadata": {},
   "outputs": [
    {
     "name": "stdout",
     "output_type": "stream",
     "text": [
      "Precision of OpenOrb w/r/t JPL: [0.00785716 0.01113825 0.00619841 ... 0.1361494  0.12737095 0.1156872 ]\n",
      "\n",
      "Precision of Orbfit w/r/t  JPL: [0.01494844 0.01706743 0.0120467  ... 0.06763537 0.07834376 0.08087179]\n"
     ]
    }
   ],
   "source": [
    "great_circle_diff1 = max_diff(coord_jpl, coord_OpenOrb)\n",
    "print(\"Precision of OpenOrb w/r/t JPL:\", great_circle_diff1)\n",
    "\n",
    "print()\n",
    "great_circle_diff2 = max_diff(coord_jpl, coord_OrbFit)\n",
    "print(\"Precision of Orbfit w/r/t  JPL:\", great_circle_diff2)\n",
    "\n",
    "#HALF A PIXEL (1p is 0.2 arcs (but also photometry can improve measurements))"
   ]
  },
  {
   "cell_type": "code",
   "execution_count": 13,
   "metadata": {},
   "outputs": [],
   "source": [
    "def chart_stats(array):\n",
    "    median = np.median(array)\n",
    "    mean = np.mean(array)\n",
    "    maximum = np.max(array)\n",
    "    statistics = np.array([median, mean, maximum])\n",
    "    return median, mean, maximum, statistics"
   ]
  },
  {
   "cell_type": "markdown",
   "metadata": {},
   "source": [
    "## Graphical Representation"
   ]
  },
  {
   "cell_type": "code",
   "execution_count": 14,
   "metadata": {},
   "outputs": [],
   "source": [
    "# color coding- fix this\n",
    "def color_yellow(s):\n",
    "    '''\n",
    "    highlight the maximum in a Series yellow.\n",
    "    '''\n",
    "    is_max = s == s.max()\n",
    "    return ['background-color: yellow' if v else '' for v in is_max]\n",
    "\n",
    "def color_map(s):\n",
    "    ret = []\n",
    "    for val in s:\n",
    "        if val < 0.05:\n",
    "            style = ['background-color: green']\n",
    "        elif val < 0.2:\n",
    "            style = ['background-color: yellow']\n",
    "        elif val < 0.6:\n",
    "            style = ['background-color: orange']\n",
    "        else:\n",
    "            style = ['background-color: red']\n",
    "        \n",
    "        ret += style\n",
    "    return ret"
   ]
  },
  {
   "cell_type": "code",
   "execution_count": 15,
   "metadata": {},
   "outputs": [
    {
     "data": {
      "text/html": [
       "<style  type=\"text/css\" >\n",
       "    #T_381345c6_11c8_11eb_961c_9159f8622c72row0_col0 {\n",
       "            background-color:  green;\n",
       "        }    #T_381345c6_11c8_11eb_961c_9159f8622c72row0_col1 {\n",
       "            background-color:  green;\n",
       "        }    #T_381345c6_11c8_11eb_961c_9159f8622c72row1_col0 {\n",
       "            background-color:  green;\n",
       "        }    #T_381345c6_11c8_11eb_961c_9159f8622c72row1_col1 {\n",
       "            background-color:  green;\n",
       "        }    #T_381345c6_11c8_11eb_961c_9159f8622c72row2_col0 {\n",
       "            background-color:  yellow;\n",
       "        }    #T_381345c6_11c8_11eb_961c_9159f8622c72row2_col1 {\n",
       "            background-color:  yellow;\n",
       "        }</style><table id=\"T_381345c6_11c8_11eb_961c_9159f8622c72\" ><thead>    <tr>        <th class=\"index_name level0\" >Metric</th>        <th class=\"col_heading level0 col0\" >OpenOrb</th>        <th class=\"col_heading level0 col1\" >OrbFit</th>    </tr></thead><tbody>\n",
       "                <tr>\n",
       "                        <th id=\"T_381345c6_11c8_11eb_961c_9159f8622c72level0_row0\" class=\"row_heading level0 row0\" >Median</th>\n",
       "                        <td id=\"T_381345c6_11c8_11eb_961c_9159f8622c72row0_col0\" class=\"data row0 col0\" >0.024776</td>\n",
       "                        <td id=\"T_381345c6_11c8_11eb_961c_9159f8622c72row0_col1\" class=\"data row0 col1\" >0.030403</td>\n",
       "            </tr>\n",
       "            <tr>\n",
       "                        <th id=\"T_381345c6_11c8_11eb_961c_9159f8622c72level0_row1\" class=\"row_heading level0 row1\" >Mean</th>\n",
       "                        <td id=\"T_381345c6_11c8_11eb_961c_9159f8622c72row1_col0\" class=\"data row1 col0\" >0.041732</td>\n",
       "                        <td id=\"T_381345c6_11c8_11eb_961c_9159f8622c72row1_col1\" class=\"data row1 col1\" >0.034741</td>\n",
       "            </tr>\n",
       "            <tr>\n",
       "                        <th id=\"T_381345c6_11c8_11eb_961c_9159f8622c72level0_row2\" class=\"row_heading level0 row2\" >Maximum</th>\n",
       "                        <td id=\"T_381345c6_11c8_11eb_961c_9159f8622c72row2_col0\" class=\"data row2 col0\" >0.156815</td>\n",
       "                        <td id=\"T_381345c6_11c8_11eb_961c_9159f8622c72row2_col1\" class=\"data row2 col1\" >0.094826</td>\n",
       "            </tr>\n",
       "    </tbody></table>"
      ],
      "text/plain": [
       "<pandas.io.formats.style.Styler at 0x7f5512e18e90>"
      ]
     },
     "execution_count": 15,
     "metadata": {},
     "output_type": "execute_result"
    }
   ],
   "source": [
    "median1, mean1, max1, statistics1 = chart_stats(great_circle_diff1)\n",
    "median2, mean2, max2, statistics2 = chart_stats(great_circle_diff2)\n",
    "\n",
    "total_stats = np.array([statistics1, statistics2]) * u.arcsec\n",
    "\n",
    "table = pd.DataFrame(data= total_stats.transpose(), columns=['OpenOrb', 'OrbFit'])\n",
    "table = table.rename(index={0: \"Median\", 1: \"Mean\", 2: \"Maximum\"})\n",
    "table = table.rename_axis(\"Metric\", axis=\"columns\")\n",
    "table = table.style.apply(color_map)\n",
    "table"
   ]
  },
  {
   "cell_type": "markdown",
   "metadata": {},
   "source": [
    "### Key:\n",
    "value <= 0.05\" -> green (good)\n",
    "\n",
    "value <= 0.2\" -> yellow (ok)\n",
    "\n",
    "value <= 0.6\" -> orange (not good but may work)\n",
    "\n",
    "greater values -> red (bad)"
   ]
  },
  {
   "cell_type": "markdown",
   "metadata": {},
   "source": [
    "# Prep Zone"
   ]
  },
  {
   "cell_type": "markdown",
   "metadata": {},
   "source": [
    "Let's adopt these:\n",
    "\n",
    "value <= 0.05\" -> green (good)\n",
    "\n",
    "value <= 0.2\" -> yellow (ok)\n",
    "\n",
    "value <= 0.6\" -> orange (not good but may work)\n",
    "\n",
    "value is red otherwise (bad)"
   ]
  },
  {
   "cell_type": "markdown",
   "metadata": {},
   "source": [
    "# Recipe"
   ]
  },
  {
   "cell_type": "code",
   "execution_count": null,
   "metadata": {
    "scrolled": false
   },
   "outputs": [],
   "source": [
    "'''\n",
    "Gfortran version 4.8.6\n",
    "\n",
    "Useful bits from docs:\n",
    "\n",
    "JPL: 'targetname','datetime_jd','datetime_str','H','G','e','q','incl','Omega','w','Tp_jd','n','M','nu','a','Q','P'\n",
    "\n",
    "pyoorb:\n",
    "orbit id: an integer number to identify the orbit; usually ranges from 0 to n-1, where n is the number of orbits\n",
    "perihelion distance (au) for COM, semimajor axis a (au) for KEP, x (au) for CART\n",
    "eccentricity for COM or KEP, y (au) for CART\n",
    "inclination (deg) for COM or KEP, z (au) for CART\n",
    "longitude of the ascending node (deg) for COM and KEP, dx/dt (au/day) for CART\n",
    "argument of the periapsis (deg) for COM and KEP, dy/dt (au/day) for CARqT\n",
    "epoch of perihelion (modified Julian date) for COM, mean anomaly (deg) for KEP, dz/dt for CART\n",
    "orbital element type; integer value: CART: 1, COM: 2, KEP: 3\n",
    "epoch of the osculating elements (modified Julian date)\n",
    "timescale type of the epochs provided; integer value: UTC: 1, UT1: 2, TT: 3, TAI: 4\n",
    "absolute magnitude of the target\n",
    "photometric slope parameter of the target\n",
    "\n",
    "\n",
    "JPL TableColumns values to extract:\n",
    "[0,1,2,3,7,8,23] = [targetname, datetime str, datettime jd, H, RA, DEC, V]\n",
    "\n",
    "Want pyoorb.oorb_ephemeris_basic , use these indices for properties:\n",
    "[0,1,2,9] = [mjd, RA (deg), DEC(deg), predicted apparent V-band mag]\n",
    "\n",
    "example copied from--> https://github.com/oorb/oorb/tree/master/python#ephemeris-computation\n",
    "'''"
   ]
  }
 ],
 "metadata": {
  "kernelspec": {
   "display_name": "Great Integrator Bakeoff Project (Research)",
   "language": "python",
   "name": "maria8ch_bakeoff3"
  },
  "language_info": {
   "codemirror_mode": {
    "name": "ipython",
    "version": 3
   },
   "file_extension": ".py",
   "mimetype": "text/x-python",
   "name": "python",
   "nbconvert_exporter": "python",
   "pygments_lexer": "ipython3",
   "version": "3.7.7"
  }
 },
 "nbformat": 4,
 "nbformat_minor": 4
}
