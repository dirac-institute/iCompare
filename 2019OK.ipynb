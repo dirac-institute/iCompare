{
 "cells": [
  {
   "cell_type": "markdown",
   "metadata": {},
   "source": [
    "# 2019 OK JPL Horizon vs OpenOrb comparison"
   ]
  },
  {
   "cell_type": "markdown",
   "metadata": {},
   "source": [
    "## Assumptions/ accountability-sourced documentation:\n",
    "\n",
    "* Values for chosen orbit found here: https://ssd.jpl.nasa.gov/sbdb.cgi?sstr=2019%20OK\n",
    "* Location: I11, Gemini South\n",
    "* Time: 2010/01/01 to 2020/01/01, midnights\n",
    "\n",
    "## Current questions/ issues:\n",
    "\n",
    "* Do I need to cite things in-code? nah, but track examples/ code snippets\n",
    "* Do we need a maximum difference function or class? function\n",
    "* check data to stop kernel from dying"
   ]
  },
  {
   "cell_type": "code",
   "execution_count": null,
   "metadata": {},
   "outputs": [],
   "source": [
    "%matplotlib inline\n",
    "\n",
    "import sys\n",
    "import numpy as np\n",
    "import astropy as ap\n",
    "from astropy.coordinates import SkyCoord\n",
    "import astropy.units as u\n",
    "from astropy.table import QTable\n",
    "import matplotlib.pyplot as plt\n",
    "import astroquery as aq\n",
    "from astroquery.jplhorizons import Horizons\n",
    "import pyoorb as oo\n",
    "oo.pyoorb.oorb_init()"
   ]
  },
  {
   "cell_type": "markdown",
   "metadata": {},
   "source": [
    "# Mary Berry ready Zone"
   ]
  },
  {
   "cell_type": "code",
   "execution_count": 2,
   "metadata": {},
   "outputs": [],
   "source": [
    "# \"Global\" variables: times, location, object\n",
    "start_time = '2010-01-01T00:00:00'\n",
    "stop_time = '2020-01-01T00:00:01'\n",
    "internal_start = ap.time.Time(start_time)\n",
    "internal_stop = ap.time.Time(stop_time)\n",
    "element_time = internal_start.jd\n",
    "obj_id = '2019 OK'\n",
    "Gemini_S = 'I11@399'"
   ]
  },
  {
   "cell_type": "markdown",
   "metadata": {},
   "source": [
    "## JPL Values"
   ]
  },
  {
   "cell_type": "code",
   "execution_count": 3,
   "metadata": {
    "scrolled": true
   },
   "outputs": [],
   "source": [
    "# 2019 OK elements\n",
    "el_obj = Horizons(id=obj_id, location= '500@10',\n",
    "               epochs=element_time)\n",
    "el_jpl = el_obj.elements()"
   ]
  },
  {
   "cell_type": "code",
   "execution_count": 4,
   "metadata": {
    "scrolled": true
   },
   "outputs": [],
   "source": [
    "# 2019 OK JPL ephem\n",
    "ephem_obj = Horizons(id= obj_id, location= Gemini_S,\n",
    "               epochs={'start': start_time, 'stop':stop_time,\n",
    "                      'step':'1d'})\n",
    "ephem_jpl = ephem_obj.ephemerides()"
   ]
  },
  {
   "cell_type": "markdown",
   "metadata": {},
   "source": [
    "## OpenOrb-Sourced Values"
   ]
  },
  {
   "cell_type": "code",
   "execution_count": 5,
   "metadata": {},
   "outputs": [],
   "source": [
    "# time conversions, epochs for pyoorb to work\n",
    "element_time_pyoorb = internal_start.mjd\n",
    "start_pyoorb = internal_start.mjd\n",
    "stop_pyoorb = internal_stop.mjd\n",
    "peri_time = ap.time.Time(el_jpl['Tp_jd'][0], format='jd').mjd"
   ]
  },
  {
   "cell_type": "code",
   "execution_count": null,
   "metadata": {},
   "outputs": [],
   "source": [
    "# 2019 OK orbit and time set-up\n",
    "orbit_2019OK = np.array([[0, el_jpl['q'][0], el_jpl['e'][0], np.deg2rad(el_jpl['incl'][0]),\n",
    "                   np.deg2rad(el_jpl['Omega'][0]), np.deg2rad(el_jpl['w'][0]),\n",
    "                   peri_time, 2, start_pyoorb, 1, el_jpl['H'][0], el_jpl['G'][0]]],\n",
    "                  dtype=np.double, order='F')\n",
    "\n",
    "t0 = np.array([element_time_pyoorb, 1], dtype=np.double, order='F')\n",
    "mjds = np.arange(start_pyoorb, stop_pyoorb, 1)\n",
    "epochs = np.array(list(zip(mjds, [1]*len(mjds))), dtype=np.double, order='F')\n"
   ]
  },
  {
   "cell_type": "code",
   "execution_count": null,
   "metadata": {},
   "outputs": [],
   "source": [
    "ephem_pyoorb, err = oo.pyoorb.oorb_ephemeris_basic(in_orbits=orbit_2019OK,\n",
    "                                         in_obscode='I11',\n",
    "                                         in_date_ephems=epochs,\n",
    "                                         in_dynmodel='N')\n",
    "\n",
    "print(ephem_pyoorb, err)"
   ]
  },
  {
   "cell_type": "code",
   "execution_count": 6,
   "metadata": {},
   "outputs": [],
   "source": [
    "# function to reorganize JPL Horizons output into pyoorb-acceptable inputs. Expand for multiple orbits next\n",
    "def reorganizer(orbits, epoch):\n",
    "    '''\n",
    "    Parameters\n",
    "    ------\n",
    "    orbits : `~numpy.ndarray` (N, 18)\n",
    "    epoch : `~numpy.ndarray` (3652, 2)\n",
    "        Constrained to cometary format.\n",
    "    Returns\n",
    "    -------\n",
    "    new_array : `~numpy.ndarray` (N, 12)\n",
    "        Orbits formatted in the format expected by PYOORB. \n",
    "            orbit_id : index of input orbits\n",
    "            elements x6: orbital elements of propagated orbits\n",
    "            orbit_type : orbit type\n",
    "            epoch_mjd : epoch of the propagate orbit\n",
    "            time_scale : time scale of output epochs\n",
    "            H/M1 : absolute magnitude\n",
    "            G/K1 : photometric slope parameter\n",
    "    '''\n",
    "    \n",
    "    temp = orbits.copy()\n",
    "    temp = temp.as_array().data\n",
    "    if temp.shape == (6,):\n",
    "        num_orbits = 1\n",
    "    else:\n",
    "        num_orbits = temp.shape[0]\n",
    "        \n",
    "    for i in range(num_orbits):\n",
    "        ids = i\n",
    "        orbit_type = 2\n",
    "        time_scale = 3\n",
    "        \n",
    "    # elements x6\n",
    "    q = temp[0][6]\n",
    "    e = temp[0][5]\n",
    "    incl = np.deg2rad(temp[0][7])\n",
    "    longnode = np.deg2rad(temp[0][8])\n",
    "    argper = np.deg2rad(temp[0][9])\n",
    "    peri_epoch = ap.time.Time(temp[0][10], format='jd').mjd\n",
    "\n",
    "    mag = temp[0][3]\n",
    "    slope = temp[0][4]\n",
    "    \n",
    "    if num_orbits > 1:\n",
    "        new_array = np.array(\n",
    "            np.array([\n",
    "                ids, \n",
    "                q,\n",
    "                e,\n",
    "                incl,\n",
    "                longnode,\n",
    "                argper,\n",
    "                peri_epoch,\n",
    "                orbit_type,\n",
    "                epoch,\n",
    "                time_scale,\n",
    "                mag,\n",
    "                slope\n",
    "            ]), \n",
    "            dtype=np.double, \n",
    "            order='F')\n",
    "    else:\n",
    "        new_array = np.array(\n",
    "            [[\n",
    "                ids, \n",
    "                q,\n",
    "                e,\n",
    "                incl,\n",
    "                longnode,\n",
    "                argper,\n",
    "                peri_epoch,\n",
    "                orbit_type,\n",
    "                epoch,\n",
    "                time_scale,\n",
    "                mag,\n",
    "                slope\n",
    "            ]], \n",
    "            dtype=np.double,\n",
    "            order='F')\n",
    "    \n",
    "    return new_array"
   ]
  },
  {
   "cell_type": "code",
   "execution_count": 7,
   "metadata": {
    "scrolled": true
   },
   "outputs": [
    {
     "name": "stdout",
     "output_type": "stream",
     "text": [
      "[[[ 5.51970000e+04  2.30986909e+02 -1.98286587e+01 ...  3.98992783e+00\n",
      "    2.96949445e+01  1.75134076e+02]\n",
      "  [ 5.51980000e+04  2.31224798e+02 -1.98898480e+01 ...  3.97929769e+00\n",
      "    2.96954430e+01  1.75211477e+02]\n",
      "  [ 5.51990000e+04  2.31460894e+02 -1.99503260e+01 ...  3.96850089e+00\n",
      "    2.96957376e+01  1.75288822e+02]\n",
      "  ...\n",
      "  [ 5.88470000e+04  2.11597036e+02 -1.45598625e+01 ...  1.97565879e+00\n",
      "    2.73085098e+01  1.36170577e+02]\n",
      "  [ 5.88480000e+04  2.11881736e+02 -1.46758459e+01 ...  1.97297843e+00\n",
      "    2.73183593e+01  1.36440068e+02]\n",
      "  [ 5.88490000e+04  2.12160998e+02 -1.47896417e+01 ...  1.97013600e+00\n",
      "    2.73278164e+01  1.36706619e+02]]] 0\n"
     ]
    }
   ],
   "source": [
    "pyoorb_formatted = reorganizer(el_jpl, start_pyoorb)\n",
    "t0 = np.array([element_time_pyoorb, 1], dtype=np.double, order='F')\n",
    "mjds = np.arange(start_pyoorb, stop_pyoorb, 1)\n",
    "epochs = np.array(list(zip(mjds, [1]*len(mjds))), dtype=np.double, order='F')\n",
    "ephem_pyoorb, err = oo.pyoorb.oorb_ephemeris_basic(in_orbits=pyoorb_formatted,\n",
    "                                         in_obscode='I11',\n",
    "                                         in_date_ephems=epochs,\n",
    "                                         in_dynmodel='N')\n",
    "\n",
    "print(ephem_pyoorb, err)"
   ]
  },
  {
   "cell_type": "markdown",
   "metadata": {},
   "source": [
    "## Difference metric"
   ]
  },
  {
   "cell_type": "code",
   "execution_count": 8,
   "metadata": {},
   "outputs": [],
   "source": [
    "# difference function: how to write it so that any integrator we use can be parsed?\n",
    "\n",
    "# use great circle difference, keep coordinates and magnitude\n",
    "\n",
    "def max_diff(ephem1, ephem2):\n",
    "    '''\n",
    "    Parameters\n",
    "    ----------\n",
    "    ephem1: elements of ephemerides, 1st integrator, numpy array?\n",
    "    ephem2: elements of ephemerides, 2nd integrator, numpy array? (same type as ephem1)\n",
    "    \n",
    "    Returns\n",
    "    -------\n",
    "    diff_matrix: separation, offset, magnitude diff between ephem1 and ephem2, numpy array\n",
    "    '''\n",
    "    \n",
    "    #coordinates\n",
    "    RA1 = ephem1['RA']\n",
    "    Dec1 = ephem1['DEC']\n",
    "    RA2 = ephem2[0][:,1] * u.deg\n",
    "    Dec2 = ephem2[0][:,2] * u.deg\n",
    "    \n",
    "    coord1 = SkyCoord(RA1, Dec1, frame='icrs')\n",
    "    coord2 = SkyCoord(RA2, Dec2, frame='icrs')\n",
    "    sep = coord1.separation(coord2)\n",
    "    \n",
    "    # magnitudes\n",
    "    #mag1 = ephem1['H']\n",
    "    #mag2 = ephem2['H']\n",
    "    \n",
    "    #magnitude = mag2 - mag1\n",
    "    \n",
    "    # matrix\n",
    "    # degs, mins, secs; extract secs\n",
    "    diff_matrix = sep.arcsec\n",
    "        \n",
    "    return diff_matrix"
   ]
  },
  {
   "cell_type": "code",
   "execution_count": 13,
   "metadata": {
    "scrolled": true
   },
   "outputs": [
    {
     "name": "stdout",
     "output_type": "stream",
     "text": [
      "These are the differences: [0.00580549 0.00980934 0.0207362  ... 1.07621466 1.08830293 1.07222173]\n",
      "These are the precision values: [4.47954533e-09 7.56893708e-09 1.60001568e-08 ... 8.30412544e-07\n",
      " 8.39739914e-07 8.27331579e-07]\n"
     ]
    }
   ],
   "source": [
    "great_circle_diff = max_diff(ephem_jpl, ephem_pyoorb)\n",
    "print(\"These are the differences:\", great_circle_diff)\n",
    "precision = (great_circle_diff/3600)/360\n",
    "print(\"These are the precision values:\", precision)\n",
    "#HALF A PIXEL (1p is 0.2 arcs (but also photometry can improve measurements))"
   ]
  },
  {
   "cell_type": "markdown",
   "metadata": {},
   "source": [
    "# Recipe"
   ]
  },
  {
   "cell_type": "code",
   "execution_count": null,
   "metadata": {
    "scrolled": false
   },
   "outputs": [],
   "source": [
    "'''\n",
    "Gfortran version 4.8.6\n",
    "\n",
    "Useful bits from docs:\n",
    "\n",
    "JPL: 'targetname','datetime_jd','datetime_str','H','G','e','q','incl','Omega','w','Tp_jd','n','M','nu','a','Q','P'\n",
    "\n",
    "pyoorb:\n",
    "orbit id: an integer number to identify the orbit; usually ranges from 0 to n-1, where n is the number of orbits\n",
    "perihelion distance (au) for COM, semimajor axis a (au) for KEP, x (au) for CART\n",
    "eccentricity for COM or KEP, y (au) for CART\n",
    "inclination (deg) for COM or KEP, z (au) for CART\n",
    "longitude of the ascending node (deg) for COM and KEP, dx/dt (au/day) for CART\n",
    "argument of the periapsis (deg) for COM and KEP, dy/dt (au/day) for CARqT\n",
    "epoch of perihelion (modified Julian date) for COM, mean anomaly (deg) for KEP, dz/dt for CART\n",
    "orbital element type; integer value: CART: 1, COM: 2, KEP: 3\n",
    "epoch of the osculating elements (modified Julian date)\n",
    "timescale type of the epochs provided; integer value: UTC: 1, UT1: 2, TT: 3, TAI: 4\n",
    "absolute magnitude of the target\n",
    "photometric slope parameter of the target\n",
    "\n",
    "\n",
    "JPL TableColumns values to extract:\n",
    "[0,1,2,3,7,8,23] = [targetname, datetime str, datettime jd, H, RA, DEC, V]\n",
    "\n",
    "Want pyoorb.oorb_ephemeris_basic , use these indices for properties:\n",
    "[0,1,2,9] = [mjd, RA (deg), DEC(deg), predicted apparent V-band mag]\n",
    "\n",
    "example copied from--> https://github.com/oorb/oorb/tree/master/python#ephemeris-computation\n",
    "'''"
   ]
  }
 ],
 "metadata": {
  "kernelspec": {
   "display_name": "Great Integrator Bakeoff Project (Research)",
   "language": "python",
   "name": "maria8ch_bakeoff3"
  },
  "language_info": {
   "codemirror_mode": {
    "name": "ipython",
    "version": 3
   },
   "file_extension": ".py",
   "mimetype": "text/x-python",
   "name": "python",
   "nbconvert_exporter": "python",
   "pygments_lexer": "ipython3",
   "version": "3.7.7"
  }
 },
 "nbformat": 4,
 "nbformat_minor": 4
}
