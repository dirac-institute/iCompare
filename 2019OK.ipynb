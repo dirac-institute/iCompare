{
 "cells": [
  {
   "cell_type": "markdown",
   "metadata": {},
   "source": [
    "# 2019 OK"
   ]
  },
  {
   "cell_type": "markdown",
   "metadata": {},
   "source": [
    "## Assumptions/ accountability-sourced documentation:\n",
    "\n",
    "* Values for chosen orbit found here: https://ssd.jpl.nasa.gov/sbdb.cgi?sstr=2019%20OK\n",
    "* Location: L11, Gemini South\n",
    "* Time: 2010/01/01 to 2020/01/01, midnights\n",
    "\n",
    "## Current questions:\n",
    "\n",
    "* Do I need to cite things in-code?\n",
    "* Vertical or horizontal tables? See below\n",
    "* How do I add units to the line that currently says 'object' (see cell 2)\n",
    "* Do we need a maximum difference function or class? What do I need to know about OOP for class things?"
   ]
  },
  {
   "cell_type": "code",
   "execution_count": 11,
   "metadata": {},
   "outputs": [],
   "source": [
    "%matplotlib inline\n",
    "\n",
    "import numpy as np\n",
    "import astropy as ap\n",
    "import astropy.units as u\n",
    "from astropy.table import QTable\n",
    "import matplotlib as plt\n",
    "# import astroquery as aq - fix anaconda and virenv before getting this"
   ]
  },
  {
   "cell_type": "code",
   "execution_count": 12,
   "metadata": {},
   "outputs": [
    {
     "name": "stdout",
     "output_type": "stream",
     "text": [
      "Element       Value        Units \n",
      "------- ------------------ ------\n",
      "      e 0.7571011351666629   Null\n",
      "      a  1.866845215104908     AU\n",
      "      q 0.4534545835685292     AU\n",
      "      i  2.089875053674596    deg\n",
      "   node  302.0443761140395    deg\n",
      "   peri  106.0972546563977    deg\n",
      "      M  101.8116827265041    deg\n",
      "    t_p  2458737.014932156 unsure\n",
      " period  931.6673871166022   days\n",
      "      n 0.3864039945781041  deg/d\n",
      "      Q  3.280235846641287     AU\n"
     ]
    },
    {
     "data": {
      "text/html": [
       "<i>QTable length=1</i>\n",
       "<table id=\"table4766801488\" class=\"table-striped table-bordered table-condensed\">\n",
       "<thead><tr><th>e</th><th>a</th><th>q</th><th>i</th><th>node</th><th>peri</th><th>M</th><th>t_p</th><th>period</th><th>n</th><th>Q</th></tr></thead>\n",
       "<thead><tr><th>object</th><th>object</th><th>object</th><th>object</th><th>object</th><th>object</th><th>object</th><th>object</th><th>object</th><th>object</th><th>object</th></tr></thead>\n",
       "<tr><td>0.7571011351666629</td><td>1.866845215104908 AU</td><td>0.4534545835685292 AU</td><td>2.089875053674596 deg</td><td>302.0443761140395 deg</td><td>106.0972546563977 deg</td><td>101.8116827265041 deg</td><td>2458737.014932156</td><td>931.6673871166022 d</td><td>0.3864039945781041 deg / d</td><td>3.280235846641287 AU</td></tr>\n",
       "</table>"
      ],
      "text/plain": [
       "<QTable length=1>\n",
       "        e                   a           ...          Q          \n",
       "      object              object        ...        object       \n",
       "------------------ -------------------- ... --------------------\n",
       "0.7571011351666629 1.866845215104908 AU ... 3.280235846641287 AU"
      ]
     },
     "execution_count": 12,
     "metadata": {},
     "output_type": "execute_result"
    }
   ],
   "source": [
    "# Values table thing goes here\n",
    "\n",
    "# vertical version\n",
    "\n",
    "Element1 = [\"e\", \"a\", \"q\", \"i\", \"node\", \"peri\", \"M\", \"t_p\", \"period\", \"n\", \"Q\"]\n",
    "Value1 = [.7571011351666629, 1.866845215104908, .4534545835685292, 2.089875053674596,\n",
    "         302.0443761140395, 106.0972546563977, 101.8116827265041, 2458737.014932156260, \n",
    "         931.6673871166022, .3864039945781041, 3.280235846641287]\n",
    "Unit1 = [\"Null\", \"AU\", \"AU\", \"deg\", \"deg\", \"deg\", \"deg\", \"unsure\", \"days\", \"deg/d\", \"AU\"]\n",
    "\n",
    "hi = QTable([Element1, Value1, Unit1],\n",
    "          names=('Element', 'Value', 'Units'),\n",
    "          meta={'name': '2019OK data'})\n",
    "\n",
    "# horizontal version\n",
    "\n",
    "Element2 = [\"e\", \"a\", \"q\", \"i\", \"node\", \"peri\", \"M\", \"t_p\", \"period\", \"n\", \"Q\"]\n",
    "Value2 = [.7571011351666629, 1.866845215104908, .4534545835685292, 2.089875053674596,\n",
    "         302.0443761140395, 106.0972546563977, 101.8116827265041, 2458737.014932156260, \n",
    "         931.6673871166022, .3864039945781041, 3.280235846641287]\n",
    "Value2 = np.array(Value)\n",
    "Value2 = np.transpose(Value)\n",
    "Unit2 = [u.dimensionless_unscaled, u.AU, u.AU, u.deg, u.deg, u.deg, u.deg, u.dimensionless_unscaled, \n",
    "         u.d, u.deg/u.d, u.AU]\n",
    "bye = QTable(Value2*Unit2, names = Element2,)\n",
    "print(hi)\n",
    "bye"
   ]
  },
  {
   "cell_type": "code",
   "execution_count": 13,
   "metadata": {},
   "outputs": [],
   "source": [
    "# JPL integration\n",
    "# Values = .elements() something here?"
   ]
  },
  {
   "cell_type": "code",
   "execution_count": 14,
   "metadata": {},
   "outputs": [],
   "source": [
    "# OpenOrb integration"
   ]
  },
  {
   "cell_type": "code",
   "execution_count": 16,
   "metadata": {},
   "outputs": [],
   "source": [
    "# difference function\n",
    "# function or class?\n",
    "\n",
    "def max_diff_metric(var1, var2):\n",
    "    \n",
    "    # solution for the 360deg problem\n",
    "    \n",
    "    return RA_diff, DEC_diff"
   ]
  }
 ],
 "metadata": {
  "kernelspec": {
   "display_name": "Python 3",
   "language": "python",
   "name": "python3"
  },
  "language_info": {
   "codemirror_mode": {
    "name": "ipython",
    "version": 3
   },
   "file_extension": ".py",
   "mimetype": "text/x-python",
   "name": "python",
   "nbconvert_exporter": "python",
   "pygments_lexer": "ipython3",
   "version": "3.7.6"
  }
 },
 "nbformat": 4,
 "nbformat_minor": 4
}
