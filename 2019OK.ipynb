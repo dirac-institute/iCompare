{
 "cells": [
  {
   "cell_type": "code",
   "execution_count": 17,
   "metadata": {},
   "outputs": [],
   "source": [
    "%matplotlib inline\n",
    "\n",
    "import numpy as np\n",
    "import astropy as ap\n",
    "import astropy.units as u\n",
    "from astropy.table import QTable\n",
    "import matplotlib as plt\n",
    "# import astroquery as aq - fix anaconda and virenv before getting this"
   ]
  },
  {
   "cell_type": "code",
   "execution_count": 60,
   "metadata": {},
   "outputs": [
    {
     "name": "stdout",
     "output_type": "stream",
     "text": [
      "Element       Value        Units \n",
      "------- ------------------ ------\n",
      "      e 0.7571011351666629   Null\n",
      "      a  1.866845215104908     AU\n",
      "      q 0.4534545835685292     AU\n",
      "      i  2.089875053674596    deg\n",
      "   node  302.0443761140395    deg\n",
      "   peri  106.0972546563977    deg\n",
      "      M  101.8116827265041    deg\n",
      "    t_p  2458737.014932156 unsure\n",
      " period  931.6673871166022   days\n",
      "      n 0.3864039945781041  deg/d\n",
      "      Q  3.280235846641287     AU\n"
     ]
    }
   ],
   "source": [
    "# Values table thing goes here\n",
    "# Q for Jurić: do I need to cite things in-code???\n",
    "# citation, just in case: https://ssd.jpl.nasa.gov/sbdb.cgi?sstr=2019%20OK\n",
    "\n",
    "# vertical or horizontal?\n",
    "\n",
    "Element = [\"e\", \"a\", \"q\", \"i\", \"node\", \"peri\", \"M\", \"t_p\", \"period\", \"n\", \"Q\"]\n",
    "Value = [.7571011351666629, 1.866845215104908, .4534545835685292, 2.089875053674596,\n",
    "         302.0443761140395, 106.0972546563977, 101.8116827265041, 2458737.014932156260, \n",
    "         931.6673871166022, .3864039945781041, 3.280235846641287]\n",
    "Unit = [\"Null\", \"AU\", \"AU\", \"deg\", \"deg\", \"deg\", \"deg\", \"unsure\", \"days\", \"deg/d\", \"AU\"]\n",
    "\n",
    "hi = QTable([Element, Value, Unit],\n",
    "          names=('Element', 'Value', 'Units'),\n",
    "          meta={'name': '2019OK data'})\n",
    "\n",
    "print(hi)"
   ]
  },
  {
   "cell_type": "code",
   "execution_count": 61,
   "metadata": {},
   "outputs": [
    {
     "data": {
      "text/html": [
       "<i>QTable length=1</i>\n",
       "<table id=\"table4810731600\" class=\"table-striped table-bordered table-condensed\">\n",
       "<thead><tr><th>e</th><th>a</th><th>q</th><th>i</th><th>node</th><th>peri</th><th>M</th><th>t_p</th><th>period</th><th>n</th><th>Q</th></tr></thead>\n",
       "<thead><tr><th>object</th><th>object</th><th>object</th><th>object</th><th>object</th><th>object</th><th>object</th><th>object</th><th>object</th><th>object</th><th>object</th></tr></thead>\n",
       "<tr><td>0.7571011351666629</td><td>1.866845215104908 AU</td><td>0.4534545835685292 AU</td><td>2.089875053674596 deg</td><td>302.0443761140395 deg</td><td>106.0972546563977 deg</td><td>101.8116827265041 deg</td><td>2458737.014932156</td><td>931.6673871166022 d</td><td>0.3864039945781041 deg / d</td><td>3.280235846641287 AU</td></tr>\n",
       "</table>"
      ],
      "text/plain": [
       "<QTable length=1>\n",
       "        e                   a           ...          Q          \n",
       "      object              object        ...        object       \n",
       "------------------ -------------------- ... --------------------\n",
       "0.7571011351666629 1.866845215104908 AU ... 3.280235846641287 AU"
      ]
     },
     "execution_count": 61,
     "metadata": {},
     "output_type": "execute_result"
    }
   ],
   "source": [
    "# how to add units to the line that says 'object' right now\n",
    "Element = [\"e\", \"a\", \"q\", \"i\", \"node\", \"peri\", \"M\", \"t_p\", \"period\", \"n\", \"Q\"]\n",
    "Value = [.7571011351666629, 1.866845215104908, .4534545835685292, 2.089875053674596,\n",
    "         302.0443761140395, 106.0972546563977, 101.8116827265041, 2458737.014932156260, \n",
    "         931.6673871166022, .3864039945781041, 3.280235846641287]\n",
    "Value = np.array(Value)\n",
    "Value = np.transpose(Value)\n",
    "Unit = [u.dimensionless_unscaled, u.AU, u.AU, u.deg, u.deg, u.deg, u.deg, u.dimensionless_unscaled, u.d, u.deg/u.d, u.AU]\n",
    "bye = QTable(Value*Unit, names = Element,)\n",
    "bye"
   ]
  },
  {
   "cell_type": "code",
   "execution_count": 2,
   "metadata": {},
   "outputs": [],
   "source": [
    "# JPL integration"
   ]
  },
  {
   "cell_type": "code",
   "execution_count": 3,
   "metadata": {},
   "outputs": [],
   "source": [
    "# OpenOrb integration"
   ]
  },
  {
   "cell_type": "code",
   "execution_count": null,
   "metadata": {},
   "outputs": [],
   "source": []
  }
 ],
 "metadata": {
  "kernelspec": {
   "display_name": "Python 3",
   "language": "python",
   "name": "python3"
  },
  "language_info": {
   "codemirror_mode": {
    "name": "ipython",
    "version": 3
   },
   "file_extension": ".py",
   "mimetype": "text/x-python",
   "name": "python",
   "nbconvert_exporter": "python",
   "pygments_lexer": "ipython3",
   "version": "3.7.6"
  }
 },
 "nbformat": 4,
 "nbformat_minor": 4
}
