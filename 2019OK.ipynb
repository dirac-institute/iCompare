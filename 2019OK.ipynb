{
 "cells": [
  {
   "cell_type": "markdown",
   "metadata": {},
   "source": [
    "# 2019 OK JPL Horizon vs OpenOrb comparison"
   ]
  },
  {
   "cell_type": "markdown",
   "metadata": {},
   "source": [
    "## Assumptions/ accountability-sourced documentation:\n",
    "\n",
    "* Values for chosen orbit found here: https://ssd.jpl.nasa.gov/sbdb.cgi?sstr=2019%20OK\n",
    "* Location: I11, Gemini South\n",
    "* Time: 2010/01/01 to 2020/01/01, midnights\n",
    "\n",
    "## Current questions/ issues:"
   ]
  },
  {
   "cell_type": "markdown",
   "metadata": {},
   "source": [
    "# Display-ready Zone"
   ]
  },
  {
   "cell_type": "markdown",
   "metadata": {},
   "source": [
    "## Set-up"
   ]
  },
  {
   "cell_type": "code",
   "execution_count": 1,
   "metadata": {
    "scrolled": false
   },
   "outputs": [
    {
     "data": {
      "text/plain": [
       "0"
      ]
     },
     "execution_count": 1,
     "metadata": {},
     "output_type": "execute_result"
    }
   ],
   "source": [
    "%matplotlib inline\n",
    "\n",
    "import sys\n",
    "import re\n",
    "import numpy as np\n",
    "import pandas as pd\n",
    "import astropy as ap\n",
    "from astropy.coordinates import Angle\n",
    "from astropy.coordinates import SkyCoord\n",
    "import astropy.units as u\n",
    "from astropy.table import QTable\n",
    "from astropy.io import ascii\n",
    "import matplotlib.pyplot as plt\n",
    "import astroquery as aq\n",
    "from astroquery.jplhorizons import Horizons\n",
    "import pyoorb as oo\n",
    "oo.pyoorb.oorb_init()"
   ]
  },
  {
   "cell_type": "code",
   "execution_count": 2,
   "metadata": {},
   "outputs": [],
   "source": [
    "# \"Global\" variables: times (UTC), location, object (find a way to generalize objects)\n",
    "start_time = '2010-01-01T00:00:00'\n",
    "stop_time = '2020-01-01T00:00:01'\n",
    "internal_start = ap.time.Time(start_time)\n",
    "internal_stop = ap.time.Time(stop_time)\n",
    "element_time = internal_start.jd\n",
    "Gemini_S = 'I11@399'\n",
    "obj_id = 'Ivezic'"
   ]
  },
  {
   "cell_type": "markdown",
   "metadata": {},
   "source": [
    "## JPL Horizons"
   ]
  },
  {
   "cell_type": "code",
   "execution_count": 3,
   "metadata": {},
   "outputs": [],
   "source": [
    "def get_ephem_jpl():\n",
    "    el_obj = Horizons(id=obj_id, location= '500@10',\n",
    "               epochs=element_time)\n",
    "    el_jpl = el_obj.elements()\n",
    "    ephem_obj = Horizons(id= obj_id, location= Gemini_S,\n",
    "               epochs={'start': start_time, 'stop':stop_time,\n",
    "                      'step':'1d'})\n",
    "    ephem_jpl = ephem_obj.ephemerides()\n",
    "    \n",
    "    RA_jpl = ephem_jpl['RA']\n",
    "    DEC_jpl = ephem_jpl['DEC']\n",
    "    coord_jpl = np.array([[RA_jpl], [DEC_jpl]]) * u.deg\n",
    "    \n",
    "    return el_jpl, coord_jpl"
   ]
  },
  {
   "cell_type": "markdown",
   "metadata": {},
   "source": [
    "## OpenOrb/ pyoorb"
   ]
  },
  {
   "cell_type": "code",
   "execution_count": 4,
   "metadata": {},
   "outputs": [],
   "source": [
    "# function to reorganize JPL Horizons output into pyoorb-acceptable inputs. Expand for multiple orbits next\n",
    "def reorganizer(orbits, epoch):\n",
    "    '''\n",
    "    Parameters\n",
    "    ------\n",
    "    orbits : `~numpy.ndarray` (N, 18)\n",
    "    epoch : `~numpy.ndarray` (3652, 2)\n",
    "        Constrained to cometary format.\n",
    "    Returns\n",
    "    -------\n",
    "    new_array : `~numpy.ndarray` (N, 12)\n",
    "        Orbits formatted in the format expected by PYOORB. \n",
    "            orbit_id : index of input orbits\n",
    "            elements x6: orbital elements of propagated orbits\n",
    "            orbit_type : orbit type\n",
    "            epoch_mjd : epoch of the propagate orbit\n",
    "            time_scale : time scale of output epochs\n",
    "            H/M1 : absolute magnitude\n",
    "            G/K1 : photometric slope parameter\n",
    "    '''\n",
    "    \n",
    "    temp = orbits.copy()\n",
    "    temp = temp.as_array().data\n",
    "    if temp.shape == (6,):\n",
    "        num_orbits = 1\n",
    "    else:\n",
    "        num_orbits = temp.shape[0]\n",
    "        \n",
    "    for i in range(num_orbits):\n",
    "        ids = i\n",
    "        orbit_type = 2\n",
    "        time_scale = 3\n",
    "        \n",
    "    # elements x6\n",
    "    q = temp[0][6]\n",
    "    e = temp[0][5]\n",
    "    incl = np.deg2rad(temp[0][7])\n",
    "    longnode = np.deg2rad(temp[0][8])\n",
    "    argper = np.deg2rad(temp[0][9])\n",
    "    peri_epoch = ap.time.Time(temp[0][10], format='jd').mjd\n",
    "\n",
    "    mag = temp[0][3]\n",
    "    slope = temp[0][4]\n",
    "    \n",
    "    if num_orbits > 1:\n",
    "        new_array = np.array(\n",
    "            np.array([\n",
    "                ids, \n",
    "                q,\n",
    "                e,\n",
    "                incl,\n",
    "                longnode,\n",
    "                argper,\n",
    "                peri_epoch,\n",
    "                orbit_type,\n",
    "                epoch,\n",
    "                time_scale,\n",
    "                mag,\n",
    "                slope\n",
    "            ]), \n",
    "            dtype=np.double, \n",
    "            order='F')\n",
    "    else:\n",
    "        new_array = np.array(\n",
    "            [[\n",
    "                ids, \n",
    "                q,\n",
    "                e,\n",
    "                incl,\n",
    "                longnode,\n",
    "                argper,\n",
    "                peri_epoch,\n",
    "                orbit_type,\n",
    "                epoch,\n",
    "                time_scale,\n",
    "                mag,\n",
    "                slope\n",
    "            ]], \n",
    "            dtype=np.double,\n",
    "            order='F')\n",
    "    \n",
    "    return new_array"
   ]
  },
  {
   "cell_type": "code",
   "execution_count": 5,
   "metadata": {},
   "outputs": [],
   "source": [
    "def get_ephem_OpenOrb():\n",
    "    # time conversions, epochs for pyoorb to work\n",
    "    element_time_pyoorb = internal_start.mjd\n",
    "    start_pyoorb = internal_start.mjd\n",
    "    stop_pyoorb = internal_stop.mjd\n",
    "    peri_time = ap.time.Time(el_jpl['Tp_jd'][0], format='jd').mjd\n",
    "    \n",
    "    #conversion and implementation\n",
    "    pyoorb_formatted = reorganizer(el_jpl, start_pyoorb)\n",
    "    t0 = np.array([element_time_pyoorb, 1], dtype=np.double, order='F')\n",
    "    mjds = np.arange(start_pyoorb, stop_pyoorb, 1)\n",
    "    epochs = np.array(list(zip(mjds, [1]*len(mjds))), dtype=np.double, order='F')\n",
    "    ephem_pyoorb, err = oo.pyoorb.oorb_ephemeris_basic(in_orbits=pyoorb_formatted,\n",
    "                                         in_obscode='I11',\n",
    "                                         in_date_ephems=epochs,\n",
    "                                         in_dynmodel='N')\n",
    "    \n",
    "    RA_OpenOrb = ephem_pyoorb[0][:,1]\n",
    "    DEC_OpenOrb = ephem_pyoorb[0][:,2]\n",
    "    coord_OpenOrb = np.array([[RA_OpenOrb],[DEC_OpenOrb]]) * u.deg\n",
    "    \n",
    "    return coord_OpenOrb"
   ]
  },
  {
   "cell_type": "markdown",
   "metadata": {},
   "source": [
    "## OrbFit"
   ]
  },
  {
   "cell_type": "code",
   "execution_count": 6,
   "metadata": {},
   "outputs": [],
   "source": [
    "def get_ephem_OrbFit():\n",
    "    ! (cd 2019OK && ./fitobs.x < ast.inp > /dev/null)\n",
    "    file = \"2019OK/202930.eph\" #find a way to take the output of previous command and feed it in here automatically\n",
    "    \n",
    "    with open(file) as fp:\n",
    "        [ fp.readline() for _ in range(4) ]\n",
    "        originalData = fp.read()\n",
    "    clean = re.sub('- ','-', originalData)\n",
    "    clean = re.sub('\\+ ','+', clean)\n",
    "    ephem_OrbFit = ascii.read(clean, delimiter='\\s', comment='\\s*#')\n",
    "    ephem_OrbFit.rename_columns(names=(\"col5\",\"col6\",\"col7\", \"col8\",\"col9\", \"col10\", \"col11\", \"col12\"), \n",
    "                                               new_names=(\"mjd(utc)\", \"RA hr\", \"RA min\", \"RA sec\", \"DEC deg\", \"DEC arcmin\", \"DEC arcsec\", \"mag\"))\n",
    "\n",
    "    RA_OrbFit = Angle((ephem_OrbFit['RA hr'], ephem_OrbFit['RA min'], ephem_OrbFit['RA sec']), unit = 'hourangle').degree\n",
    "    DEC_OrbFit = Angle((ephem_OrbFit['DEC deg'], ephem_OrbFit['DEC arcmin'], ephem_OrbFit['DEC arcsec']), unit = u.deg)\n",
    "    coord_OrbFit = np.array([[RA_OrbFit],[DEC_OrbFit]]) * u.deg\n",
    "    \n",
    "    return coord_OrbFit"
   ]
  },
  {
   "cell_type": "markdown",
   "metadata": {},
   "source": [
    "## Outputs and comparison"
   ]
  },
  {
   "cell_type": "code",
   "execution_count": 7,
   "metadata": {},
   "outputs": [],
   "source": [
    "# eventually all will be under monster get_ephem() function\n",
    "el_jpl, coord_jpl = get_ephem_jpl()\n",
    "coord_OpenOrb = get_ephem_OpenOrb()\n",
    "coord_OrbFit = get_ephem_OrbFit()"
   ]
  },
  {
   "cell_type": "markdown",
   "metadata": {},
   "source": [
    "## Difference metric"
   ]
  },
  {
   "cell_type": "code",
   "execution_count": 8,
   "metadata": {},
   "outputs": [],
   "source": [
    "# difference function: how to write it so that any integrator we use can be parsed?\n",
    "\n",
    "\n",
    "def max_diff(param1, param2):\n",
    "    '''\n",
    "    Parameters\n",
    "    ----------\n",
    "    param1: parameters from 1st integrator, numpy array?\n",
    "    param2: parameters from 2nd integrator, numpy array? (same type as ephem1)\n",
    "    \n",
    "    Returns\n",
    "    -------\n",
    "    diff_matrix: separation, offset, magnitude diff between ephem1 and ephem2, numpy array\n",
    "    '''\n",
    "    \n",
    "    #coordinates\n",
    "    coord1 = SkyCoord(param1[0], param1[1], frame='icrs')\n",
    "    coord2 = SkyCoord(param2[0], param2[1], frame='icrs')\n",
    "    sep = coord1.separation(coord2)\n",
    "    \n",
    "    # magnitudes\n",
    "    #mag1 = ephem1['H']\n",
    "    #mag2 = ephem2['H']\n",
    "    \n",
    "    #magnitude = mag2 - mag1\n",
    "    \n",
    "    # matrix\n",
    "    # degs, mins, secs; extract secs\n",
    "    diff_matrix = sep.arcsec\n",
    "        \n",
    "    return diff_matrix"
   ]
  },
  {
   "cell_type": "code",
   "execution_count": 9,
   "metadata": {
    "scrolled": true
   },
   "outputs": [
    {
     "name": "stdout",
     "output_type": "stream",
     "text": [
      "Difference between JPL and OpenOrb: [[0.00785716 0.01113825 0.00619841 ... 0.1361494  0.12737095 0.1156872 ]]\n",
      "Precision of OpenOrb: [[6.06262453e-09 8.59433169e-09 4.78272197e-09 ... 1.05053549e-07\n",
      "  9.82800574e-08 8.92648144e-08]]\n",
      "\n",
      "Difference between JPL and OrbFit: [[0.01494844 0.01706743 0.0120467  ... 0.06763537 0.07834376 0.08087179]]\n",
      "Precision of OrbFit: [[1.15342894e-08 1.31693145e-08 9.29529623e-09 ... 5.21877828e-08\n",
      "  6.04504354e-08 6.24010731e-08]]\n"
     ]
    }
   ],
   "source": [
    "great_circle_diff1 = max_diff(coord_jpl, coord_OpenOrb)\n",
    "print(\"Difference between JPL and OpenOrb:\", great_circle_diff1)\n",
    "precision1 = (great_circle_diff1/3600)/360\n",
    "print(\"Precision of OpenOrb:\", precision1)\n",
    "print()\n",
    "great_circle_diff2 = max_diff(coord_jpl, coord_OrbFit)\n",
    "print(\"Difference between JPL and OrbFit:\", great_circle_diff2)\n",
    "precision2 = (great_circle_diff2/3600)/360\n",
    "print(\"Precision of OrbFit:\", precision2)\n",
    "#HALF A PIXEL (1p is 0.2 arcs (but also photometry can improve measurements))"
   ]
  },
  {
   "cell_type": "markdown",
   "metadata": {},
   "source": [
    "# Prep Zone"
   ]
  },
  {
   "cell_type": "code",
   "execution_count": 10,
   "metadata": {},
   "outputs": [],
   "source": [
    "# monster function. Will take in object id's and convert&conquer to all integrator formats\n",
    "def get_ephems():\n",
    "    get_ephem_jpl()\n",
    "    get_ephem_OpenOrb()\n",
    "    get_ephem_OrbFit()\n",
    "    return"
   ]
  },
  {
   "cell_type": "markdown",
   "metadata": {},
   "source": [
    "# Recipe"
   ]
  },
  {
   "cell_type": "code",
   "execution_count": 11,
   "metadata": {
    "scrolled": false
   },
   "outputs": [
    {
     "data": {
      "text/plain": [
       "\"\\nGfortran version 4.8.6\\n\\nUseful bits from docs:\\n\\nJPL: 'targetname','datetime_jd','datetime_str','H','G','e','q','incl','Omega','w','Tp_jd','n','M','nu','a','Q','P'\\n\\npyoorb:\\norbit id: an integer number to identify the orbit; usually ranges from 0 to n-1, where n is the number of orbits\\nperihelion distance (au) for COM, semimajor axis a (au) for KEP, x (au) for CART\\neccentricity for COM or KEP, y (au) for CART\\ninclination (deg) for COM or KEP, z (au) for CART\\nlongitude of the ascending node (deg) for COM and KEP, dx/dt (au/day) for CART\\nargument of the periapsis (deg) for COM and KEP, dy/dt (au/day) for CARqT\\nepoch of perihelion (modified Julian date) for COM, mean anomaly (deg) for KEP, dz/dt for CART\\norbital element type; integer value: CART: 1, COM: 2, KEP: 3\\nepoch of the osculating elements (modified Julian date)\\ntimescale type of the epochs provided; integer value: UTC: 1, UT1: 2, TT: 3, TAI: 4\\nabsolute magnitude of the target\\nphotometric slope parameter of the target\\n\\n\\nJPL TableColumns values to extract:\\n[0,1,2,3,7,8,23] = [targetname, datetime str, datettime jd, H, RA, DEC, V]\\n\\nWant pyoorb.oorb_ephemeris_basic , use these indices for properties:\\n[0,1,2,9] = [mjd, RA (deg), DEC(deg), predicted apparent V-band mag]\\n\\nexample copied from--> https://github.com/oorb/oorb/tree/master/python#ephemeris-computation\\n\""
      ]
     },
     "execution_count": 11,
     "metadata": {},
     "output_type": "execute_result"
    }
   ],
   "source": [
    "'''\n",
    "Gfortran version 4.8.6\n",
    "\n",
    "Useful bits from docs:\n",
    "\n",
    "JPL: 'targetname','datetime_jd','datetime_str','H','G','e','q','incl','Omega','w','Tp_jd','n','M','nu','a','Q','P'\n",
    "\n",
    "pyoorb:\n",
    "orbit id: an integer number to identify the orbit; usually ranges from 0 to n-1, where n is the number of orbits\n",
    "perihelion distance (au) for COM, semimajor axis a (au) for KEP, x (au) for CART\n",
    "eccentricity for COM or KEP, y (au) for CART\n",
    "inclination (deg) for COM or KEP, z (au) for CART\n",
    "longitude of the ascending node (deg) for COM and KEP, dx/dt (au/day) for CART\n",
    "argument of the periapsis (deg) for COM and KEP, dy/dt (au/day) for CARqT\n",
    "epoch of perihelion (modified Julian date) for COM, mean anomaly (deg) for KEP, dz/dt for CART\n",
    "orbital element type; integer value: CART: 1, COM: 2, KEP: 3\n",
    "epoch of the osculating elements (modified Julian date)\n",
    "timescale type of the epochs provided; integer value: UTC: 1, UT1: 2, TT: 3, TAI: 4\n",
    "absolute magnitude of the target\n",
    "photometric slope parameter of the target\n",
    "\n",
    "\n",
    "JPL TableColumns values to extract:\n",
    "[0,1,2,3,7,8,23] = [targetname, datetime str, datettime jd, H, RA, DEC, V]\n",
    "\n",
    "Want pyoorb.oorb_ephemeris_basic , use these indices for properties:\n",
    "[0,1,2,9] = [mjd, RA (deg), DEC(deg), predicted apparent V-band mag]\n",
    "\n",
    "example copied from--> https://github.com/oorb/oorb/tree/master/python#ephemeris-computation\n",
    "'''"
   ]
  }
 ],
 "metadata": {
  "kernelspec": {
   "display_name": "Great Integrator Bakeoff Project (Research)",
   "language": "python",
   "name": "maria8ch_bakeoff3"
  },
  "language_info": {
   "codemirror_mode": {
    "name": "ipython",
    "version": 3
   },
   "file_extension": ".py",
   "mimetype": "text/x-python",
   "name": "python",
   "nbconvert_exporter": "python",
   "pygments_lexer": "ipython3",
   "version": "3.7.7"
  }
 },
 "nbformat": 4,
 "nbformat_minor": 4
}
