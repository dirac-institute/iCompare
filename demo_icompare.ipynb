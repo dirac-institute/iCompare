{
 "cells": [
  {
   "cell_type": "markdown",
   "metadata": {},
   "source": [
    "# iCompare Demo on select asteroids\n",
    "\n",
    "This notebook has been developed as a demonstration of the iCompare package and its functionality. The full aims are listed in the README of the GitHub repository, found [here](https://github.com/maria8ch/iCompare), and summarized below.\n",
    "\n",
    "There are roughly 5 integrators that are most commonly in use in Solar System dynamics community: JPL Horizons, OpenOrb, FindOrb, OrbFit, and ADAM. They have never been fully compared and tested, which may prove problematic for certain use cases. We are developing automated code that propagates asteroids using all of these integrators, compares their outputs, and presents it in some visually understandable way (e.g., a colourcoded matrix w. the asteroid on the Y axis and the integrator on the X axis).\n",
    "\n",
    "## Procedural information\n",
    "Our procedures are as follows: to initiate the integrators, we are using orbital elements provided by JPL Horizons in cometary (COM) format. We are using an integration epoch from 2010/01/01 to 2020/01/01, midnights; observing location is defined to be Ill, the Gemini South telescope. \n",
    "\n",
    "## Current issues:\n",
    "Some of the integrators contain certain features that affect the capabilities of iCompare. For example, FindOrb currently does not support orbital elements in cometary format as an intializer (it uses state vectors instead). As such, it is not yet part of the iCompare suite. Please contact the respective teams via their communication channels for resolution of those types of issues:\n",
    "\n",
    "* JPL Horizons: https://ssd.jpl.nasa.gov/horizons.cgi\n",
    "* OpenOrb: https://github.com/oorb/oorb\n",
    "* FindOrb: https://www.projectpluto.com/find_orb.htm\n",
    "* OrbFit: http://adams.dm.unipi.it/orbfit/\n",
    "* ADAM: https://github.com/B612-Asteroid-Institute/adam_home\n",
    "\n",
    "\n",
    "## Imports and Initialization of package\n",
    "The next portion of this notebook shows two examples of iCompare functionality: first on a typical MBA: 202930, and second on a larger subset of asteroids."
   ]
  },
  {
   "cell_type": "code",
   "execution_count": 1,
   "metadata": {},
   "outputs": [],
   "source": [
    "# necessary to ensure that updates to icompare are implemented with every re-run\n",
    "%load_ext autoreload\n",
    "%autoreload 2\n",
    "import icompare as ic"
   ]
  },
  {
   "cell_type": "markdown",
   "metadata": {},
   "source": [
    "## Example 1:  Asteroid 202930\n",
    "This test shows the initialization of iCompare's functions for a single asteroid.\n",
    "### Ephemeris extraction\n",
    "To compare all available integrator ephemerides, the following variables must be specified, in string format, in the following order: object ID; the beginning and end of the integration arc epoch; and the observatory code. iCompare takes these inputs and provides two outputs, the JPL Elements ('el_jpl'), and the ephemerides results from each integrator ('results').\n",
    "\n",
    "The cells below show proper initialization via the get_ephems( ) function and its outputs:"
   ]
  },
  {
   "cell_type": "code",
   "execution_count": 2,
   "metadata": {},
   "outputs": [],
   "source": [
    "# initialization for example 1\n",
    "obj_id = '202930'\n",
    "start = '2010-01-01T00:00:00'\n",
    "stop = '2020-01-01T00:00:01'\n",
    "obs = 'I11'"
   ]
  },
  {
   "cell_type": "code",
   "execution_count": 3,
   "metadata": {
    "scrolled": false
   },
   "outputs": [
    {
     "name": "stdout",
     "output_type": "stream",
     "text": [
      "Elements done\n",
      "JPL Horizons done\n",
      "OpenOrb done\n",
      "OrbFit done\n"
     ]
    },
    {
     "name": "stderr",
     "output_type": "stream",
     "text": [
      "WARNING: IllegalSecondWarning: 'second' was found  to be '0       10.62\n",
      "1       53.91\n",
      "2       32.62\n",
      "3        6.69\n",
      "4       36.05\n",
      "        ...  \n",
      "3648    56.16\n",
      "3649     8.19\n",
      "3650    15.92\n",
      "3651    19.34\n",
      "3652    18.44\n",
      "Name: 7, Length: 3653, dtype: float64', which is not in range [0,60). Treating as 0 sec, +1 min [astropy.coordinates.angle_utilities]\n"
     ]
    }
   ],
   "source": [
    "el_jpl, results = ic.get_ephems(obj_id, start, stop, obs)"
   ]
  },
  {
   "cell_type": "code",
   "execution_count": 4,
   "metadata": {},
   "outputs": [
    {
     "data": {
      "text/html": [
       "<i>Table masked=True length=1</i>\n",
       "<table id=\"table140164921016720\" class=\"table-striped table-bordered table-condensed\">\n",
       "<thead><tr><th>targetname</th><th>datetime_jd</th><th>datetime_str</th><th>H</th><th>G</th><th>e</th><th>q</th><th>incl</th><th>Omega</th><th>w</th><th>Tp_jd</th><th>n</th><th>M</th><th>nu</th><th>a</th><th>Q</th><th>P</th></tr></thead>\n",
       "<thead><tr><th>---</th><th>d</th><th>---</th><th>mag</th><th>---</th><th>---</th><th>AU</th><th>deg</th><th>deg</th><th>deg</th><th>d</th><th>deg / d</th><th>deg</th><th>deg</th><th>AU</th><th>AU</th><th>d</th></tr></thead>\n",
       "<thead><tr><th>str26</th><th>float64</th><th>str30</th><th>float64</th><th>float64</th><th>float64</th><th>float64</th><th>float64</th><th>float64</th><th>float64</th><th>float64</th><th>float64</th><th>float64</th><th>float64</th><th>float64</th><th>float64</th><th>float64</th></tr></thead>\n",
       "<tr><td>202930</td><td>2455197.5</td><td>A.D. 2010-Jan-01 00:00:00.0000</td><td>16.7</td><td>0.15</td><td>0.128838465302325</td><td>2.370222773858959</td><td>4.55987116003829</td><td>346.4356563687987</td><td>8.2675176791458</td><td>2455990.023345738</td><td>0.2196182167740337</td><td>185.9474360573336</td><td>184.6298950202226</td><td>2.720761511447487</td><td>3.071300249036016</td><td>1639.208282846617</td></tr>\n",
       "</table>"
      ],
      "text/plain": [
       "<Table masked=True length=1>\n",
       "targetname datetime_jd ...         Q                 P        \n",
       "   ---          d      ...         AU                d        \n",
       "  str26      float64   ...      float64           float64     \n",
       "---------- ----------- ... ----------------- -----------------\n",
       "    202930   2455197.5 ... 3.071300249036016 1639.208282846617"
      ]
     },
     "execution_count": 4,
     "metadata": {},
     "output_type": "execute_result"
    }
   ],
   "source": [
    "el_jpl"
   ]
  },
  {
   "cell_type": "code",
   "execution_count": 5,
   "metadata": {},
   "outputs": [
    {
     "data": {
      "text/plain": [
       "{'JPL Horizons': (<Quantity [[196.02761, 196.21191, 196.39288, ..., 254.07225, 254.53002,\n",
       "              254.98785],\n",
       "             [ -7.93628,  -8.03164,  -8.12573, ..., -26.07109, -26.12204,\n",
       "              -26.17179]] deg>,\n",
       "  <Quantity [[22.501, 22.492, 22.482, ..., 22.28 , 22.284, 22.288]] mag>),\n",
       " 'OpenOrb': (<Quantity [[196.02760876, 196.21190699, 196.3928799 , ..., 254.07229114,\n",
       "              254.53005843, 254.98788509],\n",
       "             [ -7.9362818 ,  -8.03164084,  -8.12572828, ..., -26.07109631,\n",
       "              -26.12204612, -26.17179442]] deg>,\n",
       "  <Quantity [[22.50220877, 22.49281867, 22.48323986, ..., 22.29579726,\n",
       "              22.29946906, 22.30292282]] mag>),\n",
       " 'OrbFit': (<Quantity [[196.02760833, 196.21190833, 196.39288333, ..., 254.07223333,\n",
       "              254.53      , 254.987825  ],\n",
       "             [ -7.93628333,  -8.03164167,  -8.12572778, ..., -26.07108889,\n",
       "              -26.12203889, -26.17178889]] deg>,\n",
       "  <Quantity [[22.5, 22.5, 22.5, ..., 22.3, 22.3, 22.3]] mag>)}"
      ]
     },
     "execution_count": 5,
     "metadata": {},
     "output_type": "execute_result"
    }
   ],
   "source": [
    "results"
   ]
  },
  {
   "cell_type": "markdown",
   "metadata": {},
   "source": [
    "### Great circle distance and other comparisons\n",
    "iCompare also contains the comparison function gc_dist( ) that returns great circle distance ('rsep') between integrator outputs with respect to a given reference. Currently, this reference is the JPL Horizons outputs. It also provides the difference in computed magnitudes ('rmag'). In the future, we intend to expand this suite to other comparative features. Below is the appropriate use of the function and its outputs:"
   ]
  },
  {
   "cell_type": "code",
   "execution_count": 6,
   "metadata": {},
   "outputs": [],
   "source": [
    "rsep, rmag = ic.gc_dist(results, reference=\"JPL Horizons\")"
   ]
  },
  {
   "cell_type": "code",
   "execution_count": 7,
   "metadata": {},
   "outputs": [
    {
     "data": {
      "text/plain": [
       "{'OpenOrb': array([0.00785716, 0.01113804, 0.00619812, ..., 0.13494724, 0.12616712,\n",
       "        0.11447877]),\n",
       " 'OrbFit': array([0.01339081, 0.00844377, 0.01432212, ..., 0.0540432 , 0.06476943,\n",
       "        0.08087179])}"
      ]
     },
     "execution_count": 7,
     "metadata": {},
     "output_type": "execute_result"
    }
   ],
   "source": [
    "rsep"
   ]
  },
  {
   "cell_type": "code",
   "execution_count": 8,
   "metadata": {},
   "outputs": [
    {
     "data": {
      "text/plain": [
       "{'OpenOrb': <Quantity [[0.00120877, 0.00081867, 0.00123986, ..., 0.01579726,\n",
       "             0.01546906, 0.01492282]] mag>,\n",
       " 'OrbFit': <Quantity [[-0.001,  0.008,  0.018, ...,  0.02 ,  0.016,  0.012]] mag>}"
      ]
     },
     "execution_count": 8,
     "metadata": {},
     "output_type": "execute_result"
    }
   ],
   "source": [
    "rmag"
   ]
  },
  {
   "cell_type": "markdown",
   "metadata": {},
   "source": [
    "### Statistical summary and tables\n",
    "Finally, iCompare can summarize the major statistical points in a simple table throught the table_stats( ) function. The cell below demonstrates this function as used on the great circle distance separation. The output is a dataframe table with the mean, median and maximum separations:"
   ]
  },
  {
   "cell_type": "code",
   "execution_count": 9,
   "metadata": {
    "scrolled": false
   },
   "outputs": [
    {
     "data": {
      "text/plain": [
       "integrator        \n",
       "OpenOrb     mean      0.041671\n",
       "            median    0.025782\n",
       "            max       0.154741\n",
       "OrbFit      mean      0.025471\n",
       "            median    0.021910\n",
       "            max       0.082840\n",
       "dtype: float64"
      ]
     },
     "execution_count": 9,
     "metadata": {},
     "output_type": "execute_result"
    }
   ],
   "source": [
    "stats = ic.table_stats(rsep)\n",
    "stats"
   ]
  },
  {
   "cell_type": "markdown",
   "metadata": {},
   "source": [
    "### Colour Map options\n",
    "Additionally, this table can be colour-coded. There are two colour-coding options: the default map, and the red-green colourblind map. The following colour/value matches have been adopted for colour-coding:\n",
    "\n",
    "#### Default colour map\n",
    "value <= 0.05\" -> green (good)\n",
    "\n",
    "value <= 0.2\" -> yellow (ok)\n",
    "\n",
    "value <= 0.6\" -> orange (not good but may work)\n",
    "\n",
    "otherwise -> red (bad)\n",
    "\n",
    "#### Green/red colourblind-friendly colour map\n",
    "value <= 0.05\" -> no colour (good)\n",
    "\n",
    "value <= 0.2\" -> blue (ok)\n",
    "\n",
    "value <= 0.6\" -> orange (not good but may work)\n",
    "\n",
    "otherwise -> red (bad)"
   ]
  },
  {
   "cell_type": "code",
   "execution_count": 10,
   "metadata": {
    "scrolled": true
   },
   "outputs": [
    {
     "data": {
      "text/html": [
       "<style  type=\"text/css\" >\n",
       "    #T_311ff878_ca72_11eb_97ae_4306e9b14ecarow0_col0 {\n",
       "            background-color:  green;\n",
       "        }    #T_311ff878_ca72_11eb_97ae_4306e9b14ecarow0_col1 {\n",
       "            background-color:  green;\n",
       "        }    #T_311ff878_ca72_11eb_97ae_4306e9b14ecarow0_col2 {\n",
       "            background-color:  yellow;\n",
       "        }    #T_311ff878_ca72_11eb_97ae_4306e9b14ecarow0_col3 {\n",
       "            background-color:  green;\n",
       "        }    #T_311ff878_ca72_11eb_97ae_4306e9b14ecarow0_col4 {\n",
       "            background-color:  green;\n",
       "        }    #T_311ff878_ca72_11eb_97ae_4306e9b14ecarow0_col5 {\n",
       "            background-color:  yellow;\n",
       "        }</style><table id=\"T_311ff878_ca72_11eb_97ae_4306e9b14eca\" ><thead>    <tr>        <th class=\"index_name level0\" >integrator</th>        <th class=\"col_heading level0 col0\" colspan=3>OpenOrb</th>        <th class=\"col_heading level0 col3\" colspan=3>OrbFit</th>    </tr>    <tr>        <th class=\"blank level1\" ></th>        <th class=\"col_heading level1 col0\" >mean</th>        <th class=\"col_heading level1 col1\" >median</th>        <th class=\"col_heading level1 col2\" >max</th>        <th class=\"col_heading level1 col3\" >mean</th>        <th class=\"col_heading level1 col4\" >median</th>        <th class=\"col_heading level1 col5\" >max</th>    </tr></thead><tbody>\n",
       "                <tr>\n",
       "                        <th id=\"T_311ff878_ca72_11eb_97ae_4306e9b14ecalevel0_row0\" class=\"row_heading level0 row0\" >0</th>\n",
       "                        <td id=\"T_311ff878_ca72_11eb_97ae_4306e9b14ecarow0_col0\" class=\"data row0 col0\" >0.041671</td>\n",
       "                        <td id=\"T_311ff878_ca72_11eb_97ae_4306e9b14ecarow0_col1\" class=\"data row0 col1\" >0.025782</td>\n",
       "                        <td id=\"T_311ff878_ca72_11eb_97ae_4306e9b14ecarow0_col2\" class=\"data row0 col2\" >0.154741</td>\n",
       "                        <td id=\"T_311ff878_ca72_11eb_97ae_4306e9b14ecarow0_col3\" class=\"data row0 col3\" >0.025471</td>\n",
       "                        <td id=\"T_311ff878_ca72_11eb_97ae_4306e9b14ecarow0_col4\" class=\"data row0 col4\" >0.021910</td>\n",
       "                        <td id=\"T_311ff878_ca72_11eb_97ae_4306e9b14ecarow0_col5\" class=\"data row0 col5\" >0.082840</td>\n",
       "            </tr>\n",
       "    </tbody></table>"
      ],
      "text/plain": [
       "<pandas.io.formats.style.Styler at 0x7f7aaf38f250>"
      ]
     },
     "metadata": {},
     "output_type": "display_data"
    }
   ],
   "source": [
    "ic.plot(data=stats, cmap='default')"
   ]
  },
  {
   "cell_type": "code",
   "execution_count": 11,
   "metadata": {},
   "outputs": [
    {
     "data": {
      "text/html": [
       "<style  type=\"text/css\" >\n",
       "    #T_312cf0aa_ca72_11eb_97ae_4306e9b14ecarow0_col0 {\n",
       "            background-color:  #F7F7F7;\n",
       "        }    #T_312cf0aa_ca72_11eb_97ae_4306e9b14ecarow0_col1 {\n",
       "            background-color:  #F7F7F7;\n",
       "        }    #T_312cf0aa_ca72_11eb_97ae_4306e9b14ecarow0_col2 {\n",
       "            background-color:  #92C5DE;\n",
       "        }    #T_312cf0aa_ca72_11eb_97ae_4306e9b14ecarow0_col3 {\n",
       "            background-color:  #F7F7F7;\n",
       "        }    #T_312cf0aa_ca72_11eb_97ae_4306e9b14ecarow0_col4 {\n",
       "            background-color:  #F7F7F7;\n",
       "        }    #T_312cf0aa_ca72_11eb_97ae_4306e9b14ecarow0_col5 {\n",
       "            background-color:  #92C5DE;\n",
       "        }</style><table id=\"T_312cf0aa_ca72_11eb_97ae_4306e9b14eca\" ><thead>    <tr>        <th class=\"index_name level0\" >integrator</th>        <th class=\"col_heading level0 col0\" colspan=3>OpenOrb</th>        <th class=\"col_heading level0 col3\" colspan=3>OrbFit</th>    </tr>    <tr>        <th class=\"blank level1\" ></th>        <th class=\"col_heading level1 col0\" >mean</th>        <th class=\"col_heading level1 col1\" >median</th>        <th class=\"col_heading level1 col2\" >max</th>        <th class=\"col_heading level1 col3\" >mean</th>        <th class=\"col_heading level1 col4\" >median</th>        <th class=\"col_heading level1 col5\" >max</th>    </tr></thead><tbody>\n",
       "                <tr>\n",
       "                        <th id=\"T_312cf0aa_ca72_11eb_97ae_4306e9b14ecalevel0_row0\" class=\"row_heading level0 row0\" >0</th>\n",
       "                        <td id=\"T_312cf0aa_ca72_11eb_97ae_4306e9b14ecarow0_col0\" class=\"data row0 col0\" >0.041671</td>\n",
       "                        <td id=\"T_312cf0aa_ca72_11eb_97ae_4306e9b14ecarow0_col1\" class=\"data row0 col1\" >0.025782</td>\n",
       "                        <td id=\"T_312cf0aa_ca72_11eb_97ae_4306e9b14ecarow0_col2\" class=\"data row0 col2\" >0.154741</td>\n",
       "                        <td id=\"T_312cf0aa_ca72_11eb_97ae_4306e9b14ecarow0_col3\" class=\"data row0 col3\" >0.025471</td>\n",
       "                        <td id=\"T_312cf0aa_ca72_11eb_97ae_4306e9b14ecarow0_col4\" class=\"data row0 col4\" >0.021910</td>\n",
       "                        <td id=\"T_312cf0aa_ca72_11eb_97ae_4306e9b14ecarow0_col5\" class=\"data row0 col5\" >0.082840</td>\n",
       "            </tr>\n",
       "    </tbody></table>"
      ],
      "text/plain": [
       "<pandas.io.formats.style.Styler at 0x7f7aae687a10>"
      ]
     },
     "metadata": {},
     "output_type": "display_data"
    }
   ],
   "source": [
    "ic.plot(data=stats, cmap='rg_friendly')"
   ]
  },
  {
   "cell_type": "markdown",
   "metadata": {},
   "source": [
    "## Example 2: Default objects\n",
    "iCompare has a built-in set of 22 default objects for testing purposes. These objects were chosen to showcase the application range of each integrator and the limitations they may have. Some of these objects are MBA's, and some are part of stranger classes, such as impactors and TNO's. \n",
    "\n",
    "Here is a list of all default objects: 202930, 110, 887, 6489, 176014, 136199, 15760, 2018VP1, 101955, 99942, 5261, 624, 588, 10199, 136472, 136199, 2008TC3, 2020VT4, 433, 367943, 2020AV2, A/2017 U1\n",
    "\n",
    "For convenience, iCompare has a calc_all( ) function that allows the user to run all previously showcased functions on all of the objects at once:"
   ]
  },
  {
   "cell_type": "code",
   "execution_count": null,
   "metadata": {
    "scrolled": true
   },
   "outputs": [
    {
     "name": "stdout",
     "output_type": "stream",
     "text": [
      "Elements done\n",
      "JPL Horizons done\n",
      "OpenOrb done\n"
     ]
    },
    {
     "name": "stderr",
     "output_type": "stream",
     "text": [
      "WARNING: IllegalSecondWarning: 'second' was found  to be '0       10.62\n",
      "1       53.91\n",
      "2       32.62\n",
      "3        6.69\n",
      "4       36.05\n",
      "        ...  \n",
      "3648    56.16\n",
      "3649     8.19\n",
      "3650    15.92\n",
      "3651    19.34\n",
      "3652    18.44\n",
      "Name: 7, Length: 3653, dtype: float64', which is not in range [0,60). Treating as 0 sec, +1 min [astropy.coordinates.angle_utilities]\n"
     ]
    },
    {
     "name": "stdout",
     "output_type": "stream",
     "text": [
      "OrbFit done\n",
      "Elements done\n",
      "JPL Horizons done\n",
      "OpenOrb done\n",
      "OrbFit done\n",
      "Elements done\n",
      "JPL Horizons done\n"
     ]
    },
    {
     "name": "stderr",
     "output_type": "stream",
     "text": [
      "WARNING: IllegalSecondWarning: 'second' was found  to be '0       25.17\n",
      "1       26.21\n",
      "2       21.23\n",
      "3       10.25\n",
      "4       53.30\n",
      "        ...  \n",
      "3648    24.12\n",
      "3649     1.42\n",
      "3650    36.01\n",
      "3651     7.90\n",
      "3652    37.10\n",
      "Name: 7, Length: 3653, dtype: float64', which is not in range [0,60). Treating as 0 sec, +1 min [astropy.coordinates.angle_utilities]\n"
     ]
    },
    {
     "name": "stdout",
     "output_type": "stream",
     "text": [
      "OpenOrb done\n",
      "OrbFit done\n",
      "Elements done\n",
      "JPL Horizons done\n",
      "OpenOrb done\n",
      "OrbFit done\n",
      "Elements done\n",
      "JPL Horizons done\n",
      "OpenOrb done\n",
      "OrbFit done\n",
      "Elements done\n",
      "JPL Horizons done\n",
      "OpenOrb done\n",
      "OrbFit done\n",
      "Elements done\n",
      "JPL Horizons done\n",
      "OpenOrb done\n",
      "OrbFit done\n",
      "Elements done\n",
      "JPL Horizons done\n",
      "OpenOrb done\n",
      "OrbFit done\n",
      "Elements done\n",
      "JPL Horizons done\n",
      "OpenOrb done\n"
     ]
    },
    {
     "name": "stderr",
     "output_type": "stream",
     "text": [
      "WARNING: IllegalSecondWarning: 'second' was found  to be '0       28.19\n",
      "1       25.28\n",
      "2        7.08\n",
      "3       33.52\n",
      "4       44.53\n",
      "        ...  \n",
      "3648     0.64\n",
      "3649    20.43\n",
      "3650    21.38\n",
      "3651     3.59\n",
      "3652    27.19\n",
      "Name: 7, Length: 3653, dtype: float64', which is not in range [0,60). Treating as 0 sec, +1 min [astropy.coordinates.angle_utilities]\n"
     ]
    },
    {
     "name": "stdout",
     "output_type": "stream",
     "text": [
      "OrbFit done\n",
      "Elements done\n",
      "JPL Horizons done\n",
      "OpenOrb done\n"
     ]
    },
    {
     "name": "stderr",
     "output_type": "stream",
     "text": [
      "WARNING: IllegalSecondWarning: 'second' was found  to be '0       54.89\n",
      "1       12.30\n",
      "2       52.51\n",
      "3       55.72\n",
      "4       22.16\n",
      "        ...  \n",
      "3648    35.74\n",
      "3649     6.63\n",
      "3650    17.99\n",
      "3651    11.48\n",
      "3652    48.79\n",
      "Name: 7, Length: 3653, dtype: float64', which is not in range [0,60). Treating as 0 sec, +1 min [astropy.coordinates.angle_utilities]\n"
     ]
    },
    {
     "name": "stdout",
     "output_type": "stream",
     "text": [
      "OrbFit done\n",
      "Elements done\n",
      "JPL Horizons done\n",
      "OpenOrb done\n"
     ]
    },
    {
     "name": "stderr",
     "output_type": "stream",
     "text": [
      "WARNING: IllegalSecondWarning: 'second' was found  to be '0        6.94\n",
      "1       16.13\n",
      "2       44.50\n",
      "3       31.57\n",
      "4       36.92\n",
      "        ...  \n",
      "3648    47.92\n",
      "3649    17.47\n",
      "3650    41.88\n",
      "3651     1.01\n",
      "3652    14.74\n",
      "Name: 7, Length: 3653, dtype: float64', which is not in range [0,60). Treating as 0 sec, +1 min [astropy.coordinates.angle_utilities]\n"
     ]
    },
    {
     "name": "stdout",
     "output_type": "stream",
     "text": [
      "OrbFit done\n",
      "Elements done\n",
      "JPL Horizons done\n",
      "OpenOrb done\n",
      "OrbFit done\n",
      "Elements done\n",
      "JPL Horizons done\n",
      "OpenOrb done\n",
      "OrbFit done\n",
      "Elements done\n"
     ]
    }
   ],
   "source": [
    "result = ic.calc_all()"
   ]
  },
  {
   "cell_type": "code",
   "execution_count": null,
   "metadata": {},
   "outputs": [],
   "source": [
    "result"
   ]
  },
  {
   "cell_type": "markdown",
   "metadata": {},
   "source": [
    "As you can see the results are not easily parsible due to hightened volume. For this reason, the results of multi-object integration are best viewed in colour-coded tables via ic.plot( ):"
   ]
  },
  {
   "cell_type": "code",
   "execution_count": null,
   "metadata": {
    "scrolled": true
   },
   "outputs": [],
   "source": [
    "ic.plot(data=result, cmap='default')"
   ]
  },
  {
   "cell_type": "code",
   "execution_count": null,
   "metadata": {
    "scrolled": true
   },
   "outputs": [],
   "source": [
    "ic.plot(data=result, cmap='rg_friendly')"
   ]
  },
  {
   "cell_type": "markdown",
   "metadata": {},
   "source": [
    "<font size=\"4\"> If you have any questions, please open a pull request on [Github](https://github.com/maria8ch/iCompare). </font>"
   ]
  },
  {
   "cell_type": "code",
   "execution_count": null,
   "metadata": {},
   "outputs": [],
   "source": []
  }
 ],
 "metadata": {
  "kernelspec": {
   "display_name": "Great Integrator Bakeoff Project (Research)",
   "language": "python",
   "name": "maria8ch_bakeoff3"
  },
  "language_info": {
   "codemirror_mode": {
    "name": "ipython",
    "version": 3
   },
   "file_extension": ".py",
   "mimetype": "text/x-python",
   "name": "python",
   "nbconvert_exporter": "python",
   "pygments_lexer": "ipython3",
   "version": "3.7.7"
  }
 },
 "nbformat": 4,
 "nbformat_minor": 4
}
